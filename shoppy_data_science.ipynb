{
  "nbformat": 4,
  "nbformat_minor": 0,
  "metadata": {
    "application/vnd.databricks.v1+notebook": {
      "notebookName": "shoppy_data_science",
      "dashboards": [],
      "notebookMetadata": {
        "pythonIndentUnit": 2
      },
      "language": "python",
      "widgets": {},
      "notebookOrigID": 1296569341365924
    },
    "colab": {
      "name": "shoppy_data_science.ipynb",
      "provenance": [],
      "collapsed_sections": [],
      "include_colab_link": true
    },
    "language_info": {
      "name": "python"
    },
    "kernelspec": {
      "name": "python3",
      "display_name": "Python 3"
    }
  },
  "cells": [
    {
      "cell_type": "markdown",
      "metadata": {
        "id": "view-in-github",
        "colab_type": "text"
      },
      "source": [
        "<a href=\"https://colab.research.google.com/github/philippengani/shoppy/blob/main/shoppy_data_science.ipynb\" target=\"_parent\"><img src=\"https://colab.research.google.com/assets/colab-badge.svg\" alt=\"Open In Colab\"/></a>"
      ]
    },
    {
      "cell_type": "markdown",
      "metadata": {
        "id": "IeLA3nVWAX9f"
      },
      "source": [
        "Let's setup Spark on your Colab environment. Run the cell below!\n"
      ]
    },
    {
      "cell_type": "code",
      "metadata": {
        "colab": {
          "base_uri": "https://localhost:8080/"
        },
        "id": "1vomBqr0AfbO",
        "outputId": "b7f8c5e4-de78-4e59-9aba-3b7fad66e8f3"
      },
      "source": [
        "!pip install pyspark\n",
        "!pip install -U -q PyDrive\n",
        "!apt install openjdk-8-jdk-headless -qq\n",
        "import os\n",
        "os.environ[\"JAVA_HOME\"] = \"/usr/lib/jvm/java-8-openjdk-amd64\"\n",
        "!pip install findspark"
      ],
      "execution_count": 1,
      "outputs": [
        {
          "output_type": "stream",
          "text": [
            "Collecting pyspark\n",
            "\u001b[?25l  Downloading https://files.pythonhosted.org/packages/89/db/e18cfd78e408de957821ec5ca56de1250645b05f8523d169803d8df35a64/pyspark-3.1.2.tar.gz (212.4MB)\n",
            "\u001b[K     |████████████████████████████████| 212.4MB 75kB/s \n",
            "\u001b[?25hCollecting py4j==0.10.9\n",
            "\u001b[?25l  Downloading https://files.pythonhosted.org/packages/9e/b6/6a4fb90cd235dc8e265a6a2067f2a2c99f0d91787f06aca4bcf7c23f3f80/py4j-0.10.9-py2.py3-none-any.whl (198kB)\n",
            "\u001b[K     |████████████████████████████████| 204kB 14.9MB/s \n",
            "\u001b[?25hBuilding wheels for collected packages: pyspark\n",
            "  Building wheel for pyspark (setup.py) ... \u001b[?25l\u001b[?25hdone\n",
            "  Created wheel for pyspark: filename=pyspark-3.1.2-py2.py3-none-any.whl size=212880768 sha256=ee24b165eb9ea5cfbda20194c9a98f0cc80d998b8a4eb7c91396ea011d5d6a03\n",
            "  Stored in directory: /root/.cache/pip/wheels/40/1b/2c/30f43be2627857ab80062bef1527c0128f7b4070b6b2d02139\n",
            "Successfully built pyspark\n",
            "Installing collected packages: py4j, pyspark\n",
            "Successfully installed py4j-0.10.9 pyspark-3.1.2\n",
            "The following additional packages will be installed:\n",
            "  openjdk-8-jre-headless\n",
            "Suggested packages:\n",
            "  openjdk-8-demo openjdk-8-source libnss-mdns fonts-dejavu-extra\n",
            "  fonts-ipafont-gothic fonts-ipafont-mincho fonts-wqy-microhei\n",
            "  fonts-wqy-zenhei fonts-indic\n",
            "The following NEW packages will be installed:\n",
            "  openjdk-8-jdk-headless openjdk-8-jre-headless\n",
            "0 upgraded, 2 newly installed, 0 to remove and 39 not upgraded.\n",
            "Need to get 36.5 MB of archives.\n",
            "After this operation, 143 MB of additional disk space will be used.\n",
            "Selecting previously unselected package openjdk-8-jre-headless:amd64.\n",
            "(Reading database ... 160772 files and directories currently installed.)\n",
            "Preparing to unpack .../openjdk-8-jre-headless_8u292-b10-0ubuntu1~18.04_amd64.deb ...\n",
            "Unpacking openjdk-8-jre-headless:amd64 (8u292-b10-0ubuntu1~18.04) ...\n",
            "Selecting previously unselected package openjdk-8-jdk-headless:amd64.\n",
            "Preparing to unpack .../openjdk-8-jdk-headless_8u292-b10-0ubuntu1~18.04_amd64.deb ...\n",
            "Unpacking openjdk-8-jdk-headless:amd64 (8u292-b10-0ubuntu1~18.04) ...\n",
            "Setting up openjdk-8-jre-headless:amd64 (8u292-b10-0ubuntu1~18.04) ...\n",
            "update-alternatives: using /usr/lib/jvm/java-8-openjdk-amd64/jre/bin/orbd to provide /usr/bin/orbd (orbd) in auto mode\n",
            "update-alternatives: using /usr/lib/jvm/java-8-openjdk-amd64/jre/bin/servertool to provide /usr/bin/servertool (servertool) in auto mode\n",
            "update-alternatives: using /usr/lib/jvm/java-8-openjdk-amd64/jre/bin/tnameserv to provide /usr/bin/tnameserv (tnameserv) in auto mode\n",
            "Setting up openjdk-8-jdk-headless:amd64 (8u292-b10-0ubuntu1~18.04) ...\n",
            "update-alternatives: using /usr/lib/jvm/java-8-openjdk-amd64/bin/idlj to provide /usr/bin/idlj (idlj) in auto mode\n",
            "update-alternatives: using /usr/lib/jvm/java-8-openjdk-amd64/bin/wsimport to provide /usr/bin/wsimport (wsimport) in auto mode\n",
            "update-alternatives: using /usr/lib/jvm/java-8-openjdk-amd64/bin/jsadebugd to provide /usr/bin/jsadebugd (jsadebugd) in auto mode\n",
            "update-alternatives: using /usr/lib/jvm/java-8-openjdk-amd64/bin/native2ascii to provide /usr/bin/native2ascii (native2ascii) in auto mode\n",
            "update-alternatives: using /usr/lib/jvm/java-8-openjdk-amd64/bin/javah to provide /usr/bin/javah (javah) in auto mode\n",
            "update-alternatives: using /usr/lib/jvm/java-8-openjdk-amd64/bin/hsdb to provide /usr/bin/hsdb (hsdb) in auto mode\n",
            "update-alternatives: using /usr/lib/jvm/java-8-openjdk-amd64/bin/clhsdb to provide /usr/bin/clhsdb (clhsdb) in auto mode\n",
            "update-alternatives: using /usr/lib/jvm/java-8-openjdk-amd64/bin/extcheck to provide /usr/bin/extcheck (extcheck) in auto mode\n",
            "update-alternatives: using /usr/lib/jvm/java-8-openjdk-amd64/bin/schemagen to provide /usr/bin/schemagen (schemagen) in auto mode\n",
            "update-alternatives: using /usr/lib/jvm/java-8-openjdk-amd64/bin/xjc to provide /usr/bin/xjc (xjc) in auto mode\n",
            "update-alternatives: using /usr/lib/jvm/java-8-openjdk-amd64/bin/jhat to provide /usr/bin/jhat (jhat) in auto mode\n",
            "update-alternatives: using /usr/lib/jvm/java-8-openjdk-amd64/bin/wsgen to provide /usr/bin/wsgen (wsgen) in auto mode\n",
            "Collecting findspark\n",
            "  Downloading https://files.pythonhosted.org/packages/fc/2d/2e39f9a023479ea798eed4351cd66f163ce61e00c717e03c37109f00c0f2/findspark-1.4.2-py2.py3-none-any.whl\n",
            "Installing collected packages: findspark\n",
            "Successfully installed findspark-1.4.2\n"
          ],
          "name": "stdout"
        }
      ]
    },
    {
      "cell_type": "code",
      "metadata": {
        "application/vnd.databricks.v1+cell": {
          "title": "",
          "showTitle": false,
          "inputWidgets": {},
          "nuid": "1503f5a4-f3fe-4f67-8160-6d8d1dc592e8"
        },
        "id": "1BLEW1R3s73m"
      },
      "source": [
        "import pandas as pd\n",
        "from pyspark import SparkConf, SparkContext, sql\n",
        "from pyspark.sql import SparkSession\n",
        "import pyspark\n",
        "from pyspark.sql import *\n",
        "from pyspark.sql.types import *\n",
        "from pyspark.sql.functions import *\n",
        "from pyspark import SparkContext, SparkConf\n",
        "import findspark\n",
        "findspark.add_packages('mysql:mysql-connector-java:8.0.11')"
      ],
      "execution_count": 2,
      "outputs": []
    },
    {
      "cell_type": "code",
      "metadata": {
        "colab": {
          "base_uri": "https://localhost:8080/"
        },
        "id": "6l-1aPdntv_p",
        "outputId": "ebf18415-fc14-497b-ebbc-ac031eec8b31"
      },
      "source": [
        "# Download the mongo db connector\n",
        "!wget -P /usr/local/lib/python3.7/dist-packages/pyspark/jars https://repo1.maven.org/maven2/org/mongodb/spark/mongo-spark-connector_2.12/3.0.1/mongo-spark-connector_2.12-3.0.1.jar\n",
        "!wget -P /usr/local/lib/python3.7/dist-packages/pyspark/jars https://repo1.maven.org/maven2/org/mongodb/mongo-java-driver/3.11.3/mongo-java-driver-3.11.3.jar"
      ],
      "execution_count": 3,
      "outputs": [
        {
          "output_type": "stream",
          "text": [
            "--2021-06-24 22:53:49--  https://repo1.maven.org/maven2/org/mongodb/spark/mongo-spark-connector_2.12/3.0.1/mongo-spark-connector_2.12-3.0.1.jar\n",
            "Resolving repo1.maven.org (repo1.maven.org)... 199.232.192.209, 199.232.196.209\n",
            "Connecting to repo1.maven.org (repo1.maven.org)|199.232.192.209|:443... connected.\n",
            "HTTP request sent, awaiting response... 200 OK\n",
            "Length: 552150 (539K) [application/java-archive]\n",
            "Saving to: ‘/usr/local/lib/python3.7/dist-packages/pyspark/jars/mongo-spark-connector_2.12-3.0.1.jar’\n",
            "\n",
            "\r          mongo-spa   0%[                    ]       0  --.-KB/s               \rmongo-spark-connect 100%[===================>] 539.21K  --.-KB/s    in 0.04s   \n",
            "\n",
            "2021-06-24 22:53:49 (12.5 MB/s) - ‘/usr/local/lib/python3.7/dist-packages/pyspark/jars/mongo-spark-connector_2.12-3.0.1.jar’ saved [552150/552150]\n",
            "\n",
            "--2021-06-24 22:53:49--  https://repo1.maven.org/maven2/org/mongodb/mongo-java-driver/3.11.3/mongo-java-driver-3.11.3.jar\n",
            "Resolving repo1.maven.org (repo1.maven.org)... 199.232.192.209, 199.232.196.209\n",
            "Connecting to repo1.maven.org (repo1.maven.org)|199.232.192.209|:443... connected.\n",
            "HTTP request sent, awaiting response... 200 OK\n",
            "Length: 2302126 (2.2M) [application/java-archive]\n",
            "Saving to: ‘/usr/local/lib/python3.7/dist-packages/pyspark/jars/mongo-java-driver-3.11.3.jar’\n",
            "\n",
            "mongo-java-driver-3 100%[===================>]   2.20M  --.-KB/s    in 0.08s   \n",
            "\n",
            "2021-06-24 22:53:49 (27.2 MB/s) - ‘/usr/local/lib/python3.7/dist-packages/pyspark/jars/mongo-java-driver-3.11.3.jar’ saved [2302126/2302126]\n",
            "\n"
          ],
          "name": "stdout"
        }
      ]
    },
    {
      "cell_type": "code",
      "metadata": {
        "id": "NjmLNpv4BN42"
      },
      "source": [
        "# create the session and add the mongo db connector\n",
        "conf = SparkConf().set(\"spark.ui.port\", \"4050\").set(\"spark.jars.packages\",\"org.mongodb.spark:mongo-spark-connector_2.12:3.0.1\")\n",
        "# create the context\n",
        "sc = SparkContext(conf=conf)\n",
        "\n",
        "\n",
        "# Creating the database connection to the shoppy mongodb database\n",
        "\n",
        "from pyspark.sql import SparkSession\n",
        "\n",
        "#specifiy the directory to the jar files used for the connection to mongo db\n",
        "working_directory = '/usr/local/lib/python3.7/dist-packages/pyspark/jars/*'\n",
        "\n",
        "spark = SparkSession \\\n",
        "    .builder \\\n",
        "    .appName(\"mostPopularView\") \\\n",
        "    .config('spark.driver.extraClassPath', working_directory) \\\n",
        "    .getOrCreate()\n"
      ],
      "execution_count": 4,
      "outputs": []
    },
    {
      "cell_type": "code",
      "metadata": {
        "colab": {
          "base_uri": "https://localhost:8080/",
          "height": 213
        },
        "id": "1zmt-_eRBcGu",
        "outputId": "0efc411f-e808-43a9-e466-f17c699f7c8b"
      },
      "source": [
        "spark"
      ],
      "execution_count": 5,
      "outputs": [
        {
          "output_type": "execute_result",
          "data": {
            "text/html": [
              "\n",
              "            <div>\n",
              "                <p><b>SparkSession - in-memory</b></p>\n",
              "                \n",
              "        <div>\n",
              "            <p><b>SparkContext</b></p>\n",
              "\n",
              "            <p><a href=\"http://c2eb3a989d7f:4050\">Spark UI</a></p>\n",
              "\n",
              "            <dl>\n",
              "              <dt>Version</dt>\n",
              "                <dd><code>v3.1.2</code></dd>\n",
              "              <dt>Master</dt>\n",
              "                <dd><code>local[*]</code></dd>\n",
              "              <dt>AppName</dt>\n",
              "                <dd><code>pyspark-shell</code></dd>\n",
              "            </dl>\n",
              "        </div>\n",
              "        \n",
              "            </div>\n",
              "        "
            ],
            "text/plain": [
              "<pyspark.sql.session.SparkSession at 0x7f1720cac250>"
            ]
          },
          "metadata": {
            "tags": []
          },
          "execution_count": 5
        }
      ]
    },
    {
      "cell_type": "code",
      "metadata": {
        "application/vnd.databricks.v1+cell": {
          "title": "",
          "showTitle": false,
          "inputWidgets": {},
          "nuid": "5f3948da-1c61-4fb8-85fa-c9c179e5c2c9"
        },
        "id": "I73Zx_I9s73p"
      },
      "source": [
        "# Creating the database connection to the shoppy mysql database\n",
        "\n",
        "jdbcHostname = \"novobyte.org\"\n",
        "jdbcDatabase = \"jsvx9284_shpy\"\n",
        "username = 'jsvx9284_ndserge'\n",
        "password = 'DX%A818lF.+]'\n",
        "jdbcPort = 3306\n",
        "jdbcUrl = \"jdbc:mysql://{0}:{1}/{2}?user={3}&password={4}\".format(jdbcHostname, jdbcPort, jdbcDatabase, username, password)\n",
        "\n"
      ],
      "execution_count": 6,
      "outputs": []
    },
    {
      "cell_type": "code",
      "metadata": {
        "id": "9ltc1N1dEgUm"
      },
      "source": [
        ""
      ],
      "execution_count": 6,
      "outputs": []
    },
    {
      "cell_type": "code",
      "metadata": {
        "application/vnd.databricks.v1+cell": {
          "title": "",
          "showTitle": false,
          "inputWidgets": {},
          "nuid": "45bd1744-a1f4-462c-83fb-ed535a6ccf91"
        },
        "id": "INw0uFCRs73q"
      },
      "source": [
        "# Importing the shoppy ratings data and product data\n",
        "\n",
        "#shoppy_ratings_df = spark.read.jdbc(url=jdbcUrl, table=\"shoppy_ratings\")\n",
        "shoppy_ratings_df = spark.read.format(\"jdbc\")\\\n",
        "                        .option(\"url\", \"jdbc:mysql://novobyte.org/jsvx9284_shpy?useLegacyDatetimeCode=false&serverTimezone=UTC\")\\\n",
        "                        .option(\"driver\", \"com.mysql.jdbc.Driver\")\\\n",
        "                        .option(\"dbtable\", \"shoppy_ratings\")\\\n",
        "                        .option(\"user\", \"jsvx9284_ndserge\")\\\n",
        "                        .option(\"password\", \"DX%A818lF.+]\")\\\n",
        "                        .option(\"customSchema\", \"rating_id INT, rating_value INT, user_id INT, reference_id INT , type STRING\")\\\n",
        "                        .load()\n",
        "\n",
        "shoppy_products_df = spark.read.format(\"jdbc\")\\\n",
        "                        .option(\"url\", \"jdbc:mysql://novobyte.org/jsvx9284_shpy?useLegacyDatetimeCode=false&serverTimezone=UTC\")\\\n",
        "                        .option(\"driver\", \"com.mysql.jdbc.Driver\")\\\n",
        "                        .option(\"query\", \"select product_id, product_name_en,actual_price from shoppy_products\")\\\n",
        "                        .option(\"user\", \"jsvx9284_ndserge\")\\\n",
        "                        .option(\"password\", \"DX%A818lF.+]\")\\\n",
        "                        .option(\"customSchema\", \"product_id INT, product_name_en STRING, actual_price DECIMAL(38, 0)\") \\\n",
        "                        .load()"
      ],
      "execution_count": 7,
      "outputs": []
    },
    {
      "cell_type": "code",
      "metadata": {
        "application/vnd.databricks.v1+cell": {
          "title": "",
          "showTitle": false,
          "inputWidgets": {},
          "nuid": "e1c7b1e1-b61a-48bf-99b9-5ba2b3d7c131"
        },
        "colab": {
          "base_uri": "https://localhost:8080/"
        },
        "id": "ts1J7ABts73q",
        "outputId": "e68fc97c-0ae3-4fce-e196-3004d6870d77"
      },
      "source": [
        "# Caching both dataframes because they will be used many times\n",
        "# It is better to avoid getting them all the time\n",
        "\n",
        "shoppy_ratings_df.cache()\n",
        "shoppy_products_df.cache()\n",
        "\n",
        "print(\" Shoppy ratings table : \")\n",
        "shoppy_ratings_df.show(10)\n",
        "\n",
        "print(\" Shoppy products table : \")\n",
        "shoppy_products_df.show(10, truncate=False)"
      ],
      "execution_count": 8,
      "outputs": [
        {
          "output_type": "stream",
          "text": [
            " Shoppy ratings table : \n",
            "+---------+------------+-------+------------+-------+\n",
            "|rating_id|rating_value|user_id|reference_id|   type|\n",
            "+---------+------------+-------+------------+-------+\n",
            "|        8|           4|     14|           4|   SHOP|\n",
            "|        9|           3|     14|           1|   SHOP|\n",
            "|       10|           5|     14|          35|PRODUCT|\n",
            "|       11|           3|     17|          56|PRODUCT|\n",
            "|       12|           3|     17|           7|   SHOP|\n",
            "|       13|           2|     17|           4|   SHOP|\n",
            "|       14|           3|     14|          64|PRODUCT|\n",
            "|       15|           5|     41|         100|PRODUCT|\n",
            "|       16|           4|     41|          64|PRODUCT|\n",
            "|       17|           2|     14|          12|   SHOP|\n",
            "+---------+------------+-------+------------+-------+\n",
            "only showing top 10 rows\n",
            "\n",
            " Shoppy products table : \n",
            "+----------+-----------------------------+------------+\n",
            "|product_id|product_name_en              |actual_price|\n",
            "+----------+-----------------------------+------------+\n",
            "|5         |Wheelchair for disabled      |225000      |\n",
            "|6         |Fourgonnette 1317 fairly-used|11200000    |\n",
            "|35        |Traditional Sandals          |2000        |\n",
            "|38        |High heels                   |20000       |\n",
            "|39        |High heels                   |20000       |\n",
            "|40        |High heels                   |18000       |\n",
            "|41        |sneakers                     |13000       |\n",
            "|42        |High heels                   |20000       |\n",
            "|43        |High heels                   |20000       |\n",
            "|44        |Hand bag                     |20000       |\n",
            "+----------+-----------------------------+------------+\n",
            "only showing top 10 rows\n",
            "\n"
          ],
          "name": "stdout"
        }
      ]
    },
    {
      "cell_type": "code",
      "metadata": {
        "application/vnd.databricks.v1+cell": {
          "title": "",
          "showTitle": false,
          "inputWidgets": {},
          "nuid": "8e34271b-c639-476f-acbe-497067bf0555"
        },
        "id": "BA2QxQqWs73r"
      },
      "source": [
        ""
      ],
      "execution_count": 8,
      "outputs": []
    },
    {
      "cell_type": "code",
      "metadata": {
        "id": "IIplKuwDiCC1"
      },
      "source": [
        ""
      ],
      "execution_count": 8,
      "outputs": []
    },
    {
      "cell_type": "code",
      "metadata": {
        "colab": {
          "base_uri": "https://localhost:8080/",
          "height": 33
        },
        "id": "xzVHv3G8iCzG",
        "outputId": "edcfed37-3698-4213-d172-f40731f80184"
      },
      "source": [
        "display(shoppy_ratings_df)"
      ],
      "execution_count": 9,
      "outputs": [
        {
          "output_type": "display_data",
          "data": {
            "text/plain": [
              "DataFrame[rating_id: int, rating_value: int, user_id: int, reference_id: int, type: string]"
            ]
          },
          "metadata": {
            "tags": []
          }
        }
      ]
    },
    {
      "cell_type": "code",
      "metadata": {
        "colab": {
          "base_uri": "https://localhost:8080/"
        },
        "id": "FmHQ6JypiC1U",
        "outputId": "69944984-b520-4810-b687-9373bb89d8d6"
      },
      "source": [
        "shoppy_ratings_df.groupBy('reference_id').avg().head(10)"
      ],
      "execution_count": 10,
      "outputs": [
        {
          "output_type": "execute_result",
          "data": {
            "text/plain": [
              "[Row(reference_id=1507, avg(rating_id)=154.0, avg(rating_value)=4.0, avg(user_id)=26.0, avg(reference_id)=1507.0),\n",
              " Row(reference_id=1303, avg(rating_id)=94.0, avg(rating_value)=4.0, avg(user_id)=26.0, avg(reference_id)=1303.0),\n",
              " Row(reference_id=1322, avg(rating_id)=123.0, avg(rating_value)=4.0, avg(user_id)=26.0, avg(reference_id)=1322.0),\n",
              " Row(reference_id=53, avg(rating_id)=60.0, avg(rating_value)=4.0, avg(user_id)=26.0, avg(reference_id)=53.0),\n",
              " Row(reference_id=1404, avg(rating_id)=143.0, avg(rating_value)=4.0, avg(user_id)=26.0, avg(reference_id)=1404.0),\n",
              " Row(reference_id=1378, avg(rating_id)=135.0, avg(rating_value)=4.0, avg(user_id)=26.0, avg(reference_id)=1378.0),\n",
              " Row(reference_id=81, avg(rating_id)=152.0, avg(rating_value)=4.0, avg(user_id)=26.0, avg(reference_id)=81.0),\n",
              " Row(reference_id=436, avg(rating_id)=55.0, avg(rating_value)=4.0, avg(user_id)=47.0, avg(reference_id)=436.0),\n",
              " Row(reference_id=1031, avg(rating_id)=132.0, avg(rating_value)=4.0, avg(user_id)=26.0, avg(reference_id)=1031.0),\n",
              " Row(reference_id=1296, avg(rating_id)=105.0, avg(rating_value)=3.0, avg(user_id)=26.0, avg(reference_id)=1296.0)]"
            ]
          },
          "metadata": {
            "tags": []
          },
          "execution_count": 10
        }
      ]
    },
    {
      "cell_type": "code",
      "metadata": {
        "id": "W_6EBN5Wj9L4"
      },
      "source": [
        "#Get only the products\n",
        "products_df = shoppy_ratings_df.where(shoppy_ratings_df.type ==\"PRODUCT\")"
      ],
      "execution_count": 11,
      "outputs": []
    },
    {
      "cell_type": "code",
      "metadata": {
        "colab": {
          "base_uri": "https://localhost:8080/"
        },
        "id": "wuhUD-r5ksRo",
        "outputId": "74fe574c-d8b3-4ca2-89d4-2eb084a991f0"
      },
      "source": [
        "products_df.show(10)\n"
      ],
      "execution_count": 12,
      "outputs": [
        {
          "output_type": "stream",
          "text": [
            "+---------+------------+-------+------------+-------+\n",
            "|rating_id|rating_value|user_id|reference_id|   type|\n",
            "+---------+------------+-------+------------+-------+\n",
            "|       10|           5|     14|          35|PRODUCT|\n",
            "|       11|           3|     17|          56|PRODUCT|\n",
            "|       14|           3|     14|          64|PRODUCT|\n",
            "|       15|           5|     41|         100|PRODUCT|\n",
            "|       16|           4|     41|          64|PRODUCT|\n",
            "|       18|           4|     14|         372|PRODUCT|\n",
            "|       19|           0|     68|         401|PRODUCT|\n",
            "|       25|           3|     26|         415|PRODUCT|\n",
            "|       26|           4|     68|         440|PRODUCT|\n",
            "|       27|           3|     68|         406|PRODUCT|\n",
            "+---------+------------+-------+------------+-------+\n",
            "only showing top 10 rows\n",
            "\n"
          ],
          "name": "stdout"
        }
      ]
    },
    {
      "cell_type": "code",
      "metadata": {
        "id": "rXa7j13DiC3s"
      },
      "source": [
        "# Compute the average rating value and the count for each products\n",
        "from pyspark.sql import functions as F\n",
        "\n",
        "grouped_prod_df = products_df.groupBy('reference_id').agg(F.count(products_df.rating_value).alias(\"count\"), F.mean(products_df.rating_value).alias(\"average_rating\"))\n"
      ],
      "execution_count": 13,
      "outputs": []
    },
    {
      "cell_type": "code",
      "metadata": {
        "colab": {
          "base_uri": "https://localhost:8080/"
        },
        "id": "gF5uV2boiC5z",
        "outputId": "3003d3c5-6061-4abb-c3a5-c74f788261d0"
      },
      "source": [
        "grouped_prod_df.filter(\"count >= 2\").show(10,truncate=False)"
      ],
      "execution_count": 14,
      "outputs": [
        {
          "output_type": "stream",
          "text": [
            "+------------+-----+--------------+\n",
            "|reference_id|count|average_rating|\n",
            "+------------+-----+--------------+\n",
            "|436         |2    |4.0           |\n",
            "|412         |2    |3.5           |\n",
            "|64          |2    |3.5           |\n",
            "|437         |2    |4.0           |\n",
            "|533         |2    |4.5           |\n",
            "|933         |2    |1.5           |\n",
            "+------------+-----+--------------+\n",
            "\n"
          ],
          "name": "stdout"
        }
      ]
    },
    {
      "cell_type": "code",
      "metadata": {
        "colab": {
          "base_uri": "https://localhost:8080/"
        },
        "id": "hrSJMiBt4pHI",
        "outputId": "1464560f-7109-4d91-bd14-64b8eed21fed"
      },
      "source": [
        "# Get the grouped product df with the name of the products\n",
        "\n",
        "grouped_prod_names = grouped_prod_df.join(shoppy_products_df,grouped_prod_df['reference_id'] == shoppy_products_df['product_id'])\n",
        "grouped_prod_names.show(10)"
      ],
      "execution_count": 15,
      "outputs": [
        {
          "output_type": "stream",
          "text": [
            "+------------+-----+--------------+----------+--------------------+------------+\n",
            "|reference_id|count|average_rating|product_id|     product_name_en|actual_price|\n",
            "+------------+-----+--------------+----------+--------------------+------------+\n",
            "|          35|    1|           5.0|        35| Traditional Sandals|        2000|\n",
            "|          56|    1|           3.0|        56|Samsung Galaxy no...|       98000|\n",
            "|          64|    2|           3.5|        64|           IPhone 5s|       80000|\n",
            "|          97|    1|           4.0|        97|Customized ballerina|        3500|\n",
            "|          98|    1|           4.0|        98|Flip flop, earing...|        8000|\n",
            "|          99|    1|           4.0|        99| Customized hand bag|       10000|\n",
            "|         100|    1|           5.0|       100|Bangles and Barrette|        2000|\n",
            "|         173|    1|           3.0|       173|Polo By Ralph Lau...|        6000|\n",
            "|         216|    1|           3.0|       216|      Earpeace (AKJ)|        1000|\n",
            "|         260|    1|           4.0|       260|       Wall hangings|        3500|\n",
            "+------------+-----+--------------+----------+--------------------+------------+\n",
            "only showing top 10 rows\n",
            "\n"
          ],
          "name": "stdout"
        }
      ]
    },
    {
      "cell_type": "code",
      "metadata": {
        "colab": {
          "base_uri": "https://localhost:8080/"
        },
        "id": "JnxHdFfx92hD",
        "outputId": "220bb9e1-ddd2-4d14-d8af-e3ca917ca563"
      },
      "source": [
        "# Get select the required fields from the above table\n",
        "grouped_prod_names = grouped_prod_names.select(\"average_rating\", \"product_name_en\", \"count\", \"product_id\").sort('average_rating', ascending = False )\n",
        "\n",
        "print(\" The top 10 most popular products\")\n",
        "grouped_prod_names.show(10)\n",
        "\n",
        "\n"
      ],
      "execution_count": 16,
      "outputs": [
        {
          "output_type": "stream",
          "text": [
            " The top 10 most popular products\n",
            "+--------------+--------------------+-----+----------+\n",
            "|average_rating|     product_name_en|count|product_id|\n",
            "+--------------+--------------------+-----+----------+\n",
            "|           5.0|deer tree jewelry...|    1|      1314|\n",
            "|           5.0|Bangles and Barrette|    1|       100|\n",
            "|           5.0| Traditional Sandals|    1|        35|\n",
            "|           4.5|Samsung galaxy s1...|    2|       533|\n",
            "|           4.0|  Ankara Flower pots|    1|       263|\n",
            "|           4.0|     Alexander Shoes|    1|       348|\n",
            "|           4.0|African fabric ta...|    1|       266|\n",
            "|           4.0|Flip flop, earing...|    1|        98|\n",
            "|           4.0|          Nike Shoes|    1|       355|\n",
            "|           4.0|      Tecno camon cx|    1|       407|\n",
            "+--------------+--------------------+-----+----------+\n",
            "only showing top 10 rows\n",
            "\n"
          ],
          "name": "stdout"
        }
      ]
    },
    {
      "cell_type": "code",
      "metadata": {
        "colab": {
          "base_uri": "https://localhost:8080/",
          "height": 542
        },
        "id": "k5x1ONzKRRq3",
        "outputId": "f9031f97-2b97-41af-c517-3584b443b6f2"
      },
      "source": [
        "import plotly.express as px\n",
        "import plotly.graph_objects as go\n",
        "\n",
        "grouped_prod_names_pd =grouped_prod_names.toPandas()\n",
        "\n",
        "# Get the 20 products with the largest rating\n",
        "\n",
        "grouped_prod_names_pd = grouped_prod_names_pd.nlargest(20, 'average_rating')\n",
        "\n",
        "'''\n",
        "fig = px.bar(grouped_prod_names_pd, x='product_id', y='average_rating')\n",
        "fig.show()\n",
        "grouped_prod_names_pd['product_id'] = grouped_prod_names_pd['product_id'].astype(str)\n",
        "'''\n",
        "\n",
        "# Use textposition='auto' for direct text\n",
        "\n",
        "fig = go.Figure(data=[go.Bar(\n",
        "            x=grouped_prod_names_pd.product_id, y=grouped_prod_names_pd.average_rating,\n",
        "            text=grouped_prod_names_pd.product_name_en,\n",
        "            textposition='auto',\n",
        "        )])\n",
        "\n",
        "#Exclude all missing values\n",
        "fig.update_layout(xaxis=dict(type = \"category\"))\n",
        "\n",
        "fig.show()"
      ],
      "execution_count": 55,
      "outputs": [
        {
          "output_type": "display_data",
          "data": {
            "text/html": [
              "<html>\n",
              "<head><meta charset=\"utf-8\" /></head>\n",
              "<body>\n",
              "    <div>\n",
              "            <script src=\"https://cdnjs.cloudflare.com/ajax/libs/mathjax/2.7.5/MathJax.js?config=TeX-AMS-MML_SVG\"></script><script type=\"text/javascript\">if (window.MathJax) {MathJax.Hub.Config({SVG: {font: \"STIX-Web\"}});}</script>\n",
              "                <script type=\"text/javascript\">window.PlotlyConfig = {MathJaxConfig: 'local'};</script>\n",
              "        <script src=\"https://cdn.plot.ly/plotly-latest.min.js\"></script>    \n",
              "            <div id=\"db066082-1fcd-4fb4-b558-9154e9a8fdd5\" class=\"plotly-graph-div\" style=\"height:525px; width:100%;\"></div>\n",
              "            <script type=\"text/javascript\">\n",
              "                \n",
              "                    window.PLOTLYENV=window.PLOTLYENV || {};\n",
              "                    \n",
              "                if (document.getElementById(\"db066082-1fcd-4fb4-b558-9154e9a8fdd5\")) {\n",
              "                    Plotly.newPlot(\n",
              "                        'db066082-1fcd-4fb4-b558-9154e9a8fdd5',\n",
              "                        [{\"text\": [\"Traditional Sandals\", \"Bangles and Barrette\", \"deer tree jewelry stands\", \"Samsung galaxy s10 duos 128go\", \"Customized ballerina\", \"Flip flop, earing and purse\", \"Customized hand bag\", \"Wall hangings\", \"Wall hangings\", \"Ankara Flower pots\", \"Ankara Flower pots\", \"African fabric table runner and napkin set\", \"Alexander Shoes\", \"Nike Shoes\", \"Table handkerchief rings\", \"iPhone 8+ 64Gb\", \"iPhone 5SE 32Gb\", \"Tecno camon cx\", \"Tecno camon 15\", \"Tecno camon 12\"], \"textposition\": \"auto\", \"type\": \"bar\", \"x\": [35, 100, 1314, 533, 97, 98, 99, 260, 262, 263, 264, 266, 348, 355, 372, 384, 388, 407, 408, 410], \"y\": [5.0, 5.0, 5.0, 4.5, 4.0, 4.0, 4.0, 4.0, 4.0, 4.0, 4.0, 4.0, 4.0, 4.0, 4.0, 4.0, 4.0, 4.0, 4.0, 4.0]}],\n",
              "                        {\"template\": {\"data\": {\"bar\": [{\"error_x\": {\"color\": \"#2a3f5f\"}, \"error_y\": {\"color\": \"#2a3f5f\"}, \"marker\": {\"line\": {\"color\": \"#E5ECF6\", \"width\": 0.5}}, \"type\": \"bar\"}], \"barpolar\": [{\"marker\": {\"line\": {\"color\": \"#E5ECF6\", \"width\": 0.5}}, \"type\": \"barpolar\"}], \"carpet\": [{\"aaxis\": {\"endlinecolor\": \"#2a3f5f\", \"gridcolor\": \"white\", \"linecolor\": \"white\", \"minorgridcolor\": \"white\", \"startlinecolor\": \"#2a3f5f\"}, \"baxis\": {\"endlinecolor\": \"#2a3f5f\", \"gridcolor\": \"white\", \"linecolor\": \"white\", \"minorgridcolor\": \"white\", \"startlinecolor\": \"#2a3f5f\"}, \"type\": \"carpet\"}], \"choropleth\": [{\"colorbar\": {\"outlinewidth\": 0, \"ticks\": \"\"}, \"type\": \"choropleth\"}], \"contour\": [{\"colorbar\": {\"outlinewidth\": 0, \"ticks\": \"\"}, \"colorscale\": [[0.0, \"#0d0887\"], [0.1111111111111111, \"#46039f\"], [0.2222222222222222, \"#7201a8\"], [0.3333333333333333, \"#9c179e\"], [0.4444444444444444, \"#bd3786\"], [0.5555555555555556, \"#d8576b\"], [0.6666666666666666, \"#ed7953\"], [0.7777777777777778, \"#fb9f3a\"], [0.8888888888888888, \"#fdca26\"], [1.0, \"#f0f921\"]], \"type\": \"contour\"}], \"contourcarpet\": [{\"colorbar\": {\"outlinewidth\": 0, \"ticks\": \"\"}, \"type\": \"contourcarpet\"}], \"heatmap\": [{\"colorbar\": {\"outlinewidth\": 0, \"ticks\": \"\"}, \"colorscale\": [[0.0, \"#0d0887\"], [0.1111111111111111, \"#46039f\"], [0.2222222222222222, \"#7201a8\"], [0.3333333333333333, \"#9c179e\"], [0.4444444444444444, \"#bd3786\"], [0.5555555555555556, \"#d8576b\"], [0.6666666666666666, \"#ed7953\"], [0.7777777777777778, \"#fb9f3a\"], [0.8888888888888888, \"#fdca26\"], [1.0, \"#f0f921\"]], \"type\": \"heatmap\"}], \"heatmapgl\": [{\"colorbar\": {\"outlinewidth\": 0, \"ticks\": \"\"}, \"colorscale\": [[0.0, \"#0d0887\"], [0.1111111111111111, \"#46039f\"], [0.2222222222222222, \"#7201a8\"], [0.3333333333333333, \"#9c179e\"], [0.4444444444444444, \"#bd3786\"], [0.5555555555555556, \"#d8576b\"], [0.6666666666666666, \"#ed7953\"], [0.7777777777777778, \"#fb9f3a\"], [0.8888888888888888, \"#fdca26\"], [1.0, \"#f0f921\"]], \"type\": \"heatmapgl\"}], \"histogram\": [{\"marker\": {\"colorbar\": {\"outlinewidth\": 0, \"ticks\": \"\"}}, \"type\": \"histogram\"}], \"histogram2d\": [{\"colorbar\": {\"outlinewidth\": 0, \"ticks\": \"\"}, \"colorscale\": [[0.0, \"#0d0887\"], [0.1111111111111111, \"#46039f\"], [0.2222222222222222, \"#7201a8\"], [0.3333333333333333, \"#9c179e\"], [0.4444444444444444, \"#bd3786\"], [0.5555555555555556, \"#d8576b\"], [0.6666666666666666, \"#ed7953\"], [0.7777777777777778, \"#fb9f3a\"], [0.8888888888888888, \"#fdca26\"], [1.0, \"#f0f921\"]], \"type\": \"histogram2d\"}], \"histogram2dcontour\": [{\"colorbar\": {\"outlinewidth\": 0, \"ticks\": \"\"}, \"colorscale\": [[0.0, \"#0d0887\"], [0.1111111111111111, \"#46039f\"], [0.2222222222222222, \"#7201a8\"], [0.3333333333333333, \"#9c179e\"], [0.4444444444444444, \"#bd3786\"], [0.5555555555555556, \"#d8576b\"], [0.6666666666666666, \"#ed7953\"], [0.7777777777777778, \"#fb9f3a\"], [0.8888888888888888, \"#fdca26\"], [1.0, \"#f0f921\"]], \"type\": \"histogram2dcontour\"}], \"mesh3d\": [{\"colorbar\": {\"outlinewidth\": 0, \"ticks\": \"\"}, \"type\": \"mesh3d\"}], \"parcoords\": [{\"line\": {\"colorbar\": {\"outlinewidth\": 0, \"ticks\": \"\"}}, \"type\": \"parcoords\"}], \"pie\": [{\"automargin\": true, \"type\": \"pie\"}], \"scatter\": [{\"marker\": {\"colorbar\": {\"outlinewidth\": 0, \"ticks\": \"\"}}, \"type\": \"scatter\"}], \"scatter3d\": [{\"line\": {\"colorbar\": {\"outlinewidth\": 0, \"ticks\": \"\"}}, \"marker\": {\"colorbar\": {\"outlinewidth\": 0, \"ticks\": \"\"}}, \"type\": \"scatter3d\"}], \"scattercarpet\": [{\"marker\": {\"colorbar\": {\"outlinewidth\": 0, \"ticks\": \"\"}}, \"type\": \"scattercarpet\"}], \"scattergeo\": [{\"marker\": {\"colorbar\": {\"outlinewidth\": 0, \"ticks\": \"\"}}, \"type\": \"scattergeo\"}], \"scattergl\": [{\"marker\": {\"colorbar\": {\"outlinewidth\": 0, \"ticks\": \"\"}}, \"type\": \"scattergl\"}], \"scattermapbox\": [{\"marker\": {\"colorbar\": {\"outlinewidth\": 0, \"ticks\": \"\"}}, \"type\": \"scattermapbox\"}], \"scatterpolar\": [{\"marker\": {\"colorbar\": {\"outlinewidth\": 0, \"ticks\": \"\"}}, \"type\": \"scatterpolar\"}], \"scatterpolargl\": [{\"marker\": {\"colorbar\": {\"outlinewidth\": 0, \"ticks\": \"\"}}, \"type\": \"scatterpolargl\"}], \"scatterternary\": [{\"marker\": {\"colorbar\": {\"outlinewidth\": 0, \"ticks\": \"\"}}, \"type\": \"scatterternary\"}], \"surface\": [{\"colorbar\": {\"outlinewidth\": 0, \"ticks\": \"\"}, \"colorscale\": [[0.0, \"#0d0887\"], [0.1111111111111111, \"#46039f\"], [0.2222222222222222, \"#7201a8\"], [0.3333333333333333, \"#9c179e\"], [0.4444444444444444, \"#bd3786\"], [0.5555555555555556, \"#d8576b\"], [0.6666666666666666, \"#ed7953\"], [0.7777777777777778, \"#fb9f3a\"], [0.8888888888888888, \"#fdca26\"], [1.0, \"#f0f921\"]], \"type\": \"surface\"}], \"table\": [{\"cells\": {\"fill\": {\"color\": \"#EBF0F8\"}, \"line\": {\"color\": \"white\"}}, \"header\": {\"fill\": {\"color\": \"#C8D4E3\"}, \"line\": {\"color\": \"white\"}}, \"type\": \"table\"}]}, \"layout\": {\"annotationdefaults\": {\"arrowcolor\": \"#2a3f5f\", \"arrowhead\": 0, \"arrowwidth\": 1}, \"coloraxis\": {\"colorbar\": {\"outlinewidth\": 0, \"ticks\": \"\"}}, \"colorscale\": {\"diverging\": [[0, \"#8e0152\"], [0.1, \"#c51b7d\"], [0.2, \"#de77ae\"], [0.3, \"#f1b6da\"], [0.4, \"#fde0ef\"], [0.5, \"#f7f7f7\"], [0.6, \"#e6f5d0\"], [0.7, \"#b8e186\"], [0.8, \"#7fbc41\"], [0.9, \"#4d9221\"], [1, \"#276419\"]], \"sequential\": [[0.0, \"#0d0887\"], [0.1111111111111111, \"#46039f\"], [0.2222222222222222, \"#7201a8\"], [0.3333333333333333, \"#9c179e\"], [0.4444444444444444, \"#bd3786\"], [0.5555555555555556, \"#d8576b\"], [0.6666666666666666, \"#ed7953\"], [0.7777777777777778, \"#fb9f3a\"], [0.8888888888888888, \"#fdca26\"], [1.0, \"#f0f921\"]], \"sequentialminus\": [[0.0, \"#0d0887\"], [0.1111111111111111, \"#46039f\"], [0.2222222222222222, \"#7201a8\"], [0.3333333333333333, \"#9c179e\"], [0.4444444444444444, \"#bd3786\"], [0.5555555555555556, \"#d8576b\"], [0.6666666666666666, \"#ed7953\"], [0.7777777777777778, \"#fb9f3a\"], [0.8888888888888888, \"#fdca26\"], [1.0, \"#f0f921\"]]}, \"colorway\": [\"#636efa\", \"#EF553B\", \"#00cc96\", \"#ab63fa\", \"#FFA15A\", \"#19d3f3\", \"#FF6692\", \"#B6E880\", \"#FF97FF\", \"#FECB52\"], \"font\": {\"color\": \"#2a3f5f\"}, \"geo\": {\"bgcolor\": \"white\", \"lakecolor\": \"white\", \"landcolor\": \"#E5ECF6\", \"showlakes\": true, \"showland\": true, \"subunitcolor\": \"white\"}, \"hoverlabel\": {\"align\": \"left\"}, \"hovermode\": \"closest\", \"mapbox\": {\"style\": \"light\"}, \"paper_bgcolor\": \"white\", \"plot_bgcolor\": \"#E5ECF6\", \"polar\": {\"angularaxis\": {\"gridcolor\": \"white\", \"linecolor\": \"white\", \"ticks\": \"\"}, \"bgcolor\": \"#E5ECF6\", \"radialaxis\": {\"gridcolor\": \"white\", \"linecolor\": \"white\", \"ticks\": \"\"}}, \"scene\": {\"xaxis\": {\"backgroundcolor\": \"#E5ECF6\", \"gridcolor\": \"white\", \"gridwidth\": 2, \"linecolor\": \"white\", \"showbackground\": true, \"ticks\": \"\", \"zerolinecolor\": \"white\"}, \"yaxis\": {\"backgroundcolor\": \"#E5ECF6\", \"gridcolor\": \"white\", \"gridwidth\": 2, \"linecolor\": \"white\", \"showbackground\": true, \"ticks\": \"\", \"zerolinecolor\": \"white\"}, \"zaxis\": {\"backgroundcolor\": \"#E5ECF6\", \"gridcolor\": \"white\", \"gridwidth\": 2, \"linecolor\": \"white\", \"showbackground\": true, \"ticks\": \"\", \"zerolinecolor\": \"white\"}}, \"shapedefaults\": {\"line\": {\"color\": \"#2a3f5f\"}}, \"ternary\": {\"aaxis\": {\"gridcolor\": \"white\", \"linecolor\": \"white\", \"ticks\": \"\"}, \"baxis\": {\"gridcolor\": \"white\", \"linecolor\": \"white\", \"ticks\": \"\"}, \"bgcolor\": \"#E5ECF6\", \"caxis\": {\"gridcolor\": \"white\", \"linecolor\": \"white\", \"ticks\": \"\"}}, \"title\": {\"x\": 0.05}, \"xaxis\": {\"automargin\": true, \"gridcolor\": \"white\", \"linecolor\": \"white\", \"ticks\": \"\", \"title\": {\"standoff\": 15}, \"zerolinecolor\": \"white\", \"zerolinewidth\": 2}, \"yaxis\": {\"automargin\": true, \"gridcolor\": \"white\", \"linecolor\": \"white\", \"ticks\": \"\", \"title\": {\"standoff\": 15}, \"zerolinecolor\": \"white\", \"zerolinewidth\": 2}}}, \"xaxis\": {\"type\": \"category\"}},\n",
              "                        {\"responsive\": true}\n",
              "                    ).then(function(){\n",
              "                            \n",
              "var gd = document.getElementById('db066082-1fcd-4fb4-b558-9154e9a8fdd5');\n",
              "var x = new MutationObserver(function (mutations, observer) {{\n",
              "        var display = window.getComputedStyle(gd).display;\n",
              "        if (!display || display === 'none') {{\n",
              "            console.log([gd, 'removed!']);\n",
              "            Plotly.purge(gd);\n",
              "            observer.disconnect();\n",
              "        }}\n",
              "}});\n",
              "\n",
              "// Listen for the removal of the full notebook cells\n",
              "var notebookContainer = gd.closest('#notebook-container');\n",
              "if (notebookContainer) {{\n",
              "    x.observe(notebookContainer, {childList: true});\n",
              "}}\n",
              "\n",
              "// Listen for the clearing of the current output cell\n",
              "var outputEl = gd.closest('.output');\n",
              "if (outputEl) {{\n",
              "    x.observe(outputEl, {childList: true});\n",
              "}}\n",
              "\n",
              "                        })\n",
              "                };\n",
              "                \n",
              "            </script>\n",
              "        </div>\n",
              "</body>\n",
              "</html>"
            ]
          },
          "metadata": {
            "tags": []
          }
        }
      ]
    },
    {
      "cell_type": "code",
      "metadata": {
        "colab": {
          "base_uri": "https://localhost:8080/",
          "height": 664
        },
        "id": "clsVq7lnb7lb",
        "outputId": "7766d4f4-be31-49d8-aca5-ca74d0868eac"
      },
      "source": [
        "print(\" The list of the top 20 products :\")\n",
        "grouped_prod_names_pd"
      ],
      "execution_count": 18,
      "outputs": [
        {
          "output_type": "stream",
          "text": [
            " The list of the top 20 products :\n"
          ],
          "name": "stdout"
        },
        {
          "output_type": "execute_result",
          "data": {
            "text/html": [
              "<div>\n",
              "<style scoped>\n",
              "    .dataframe tbody tr th:only-of-type {\n",
              "        vertical-align: middle;\n",
              "    }\n",
              "\n",
              "    .dataframe tbody tr th {\n",
              "        vertical-align: top;\n",
              "    }\n",
              "\n",
              "    .dataframe thead th {\n",
              "        text-align: right;\n",
              "    }\n",
              "</style>\n",
              "<table border=\"1\" class=\"dataframe\">\n",
              "  <thead>\n",
              "    <tr style=\"text-align: right;\">\n",
              "      <th></th>\n",
              "      <th>average_rating</th>\n",
              "      <th>product_name_en</th>\n",
              "      <th>count</th>\n",
              "      <th>product_id</th>\n",
              "    </tr>\n",
              "  </thead>\n",
              "  <tbody>\n",
              "    <tr>\n",
              "      <th>0</th>\n",
              "      <td>5.0</td>\n",
              "      <td>Traditional Sandals</td>\n",
              "      <td>1</td>\n",
              "      <td>35</td>\n",
              "    </tr>\n",
              "    <tr>\n",
              "      <th>1</th>\n",
              "      <td>5.0</td>\n",
              "      <td>Bangles and Barrette</td>\n",
              "      <td>1</td>\n",
              "      <td>100</td>\n",
              "    </tr>\n",
              "    <tr>\n",
              "      <th>2</th>\n",
              "      <td>5.0</td>\n",
              "      <td>deer tree jewelry stands</td>\n",
              "      <td>1</td>\n",
              "      <td>1314</td>\n",
              "    </tr>\n",
              "    <tr>\n",
              "      <th>3</th>\n",
              "      <td>4.5</td>\n",
              "      <td>Samsung galaxy s10 duos 128go</td>\n",
              "      <td>2</td>\n",
              "      <td>533</td>\n",
              "    </tr>\n",
              "    <tr>\n",
              "      <th>4</th>\n",
              "      <td>4.0</td>\n",
              "      <td>Customized ballerina</td>\n",
              "      <td>1</td>\n",
              "      <td>97</td>\n",
              "    </tr>\n",
              "    <tr>\n",
              "      <th>5</th>\n",
              "      <td>4.0</td>\n",
              "      <td>Flip flop, earing and purse</td>\n",
              "      <td>1</td>\n",
              "      <td>98</td>\n",
              "    </tr>\n",
              "    <tr>\n",
              "      <th>6</th>\n",
              "      <td>4.0</td>\n",
              "      <td>Customized hand bag</td>\n",
              "      <td>1</td>\n",
              "      <td>99</td>\n",
              "    </tr>\n",
              "    <tr>\n",
              "      <th>7</th>\n",
              "      <td>4.0</td>\n",
              "      <td>Wall hangings</td>\n",
              "      <td>1</td>\n",
              "      <td>260</td>\n",
              "    </tr>\n",
              "    <tr>\n",
              "      <th>8</th>\n",
              "      <td>4.0</td>\n",
              "      <td>Wall hangings</td>\n",
              "      <td>1</td>\n",
              "      <td>262</td>\n",
              "    </tr>\n",
              "    <tr>\n",
              "      <th>9</th>\n",
              "      <td>4.0</td>\n",
              "      <td>Ankara Flower pots</td>\n",
              "      <td>1</td>\n",
              "      <td>263</td>\n",
              "    </tr>\n",
              "    <tr>\n",
              "      <th>10</th>\n",
              "      <td>4.0</td>\n",
              "      <td>Ankara Flower pots</td>\n",
              "      <td>1</td>\n",
              "      <td>264</td>\n",
              "    </tr>\n",
              "    <tr>\n",
              "      <th>11</th>\n",
              "      <td>4.0</td>\n",
              "      <td>African fabric table runner and napkin set</td>\n",
              "      <td>1</td>\n",
              "      <td>266</td>\n",
              "    </tr>\n",
              "    <tr>\n",
              "      <th>12</th>\n",
              "      <td>4.0</td>\n",
              "      <td>Alexander Shoes</td>\n",
              "      <td>1</td>\n",
              "      <td>348</td>\n",
              "    </tr>\n",
              "    <tr>\n",
              "      <th>13</th>\n",
              "      <td>4.0</td>\n",
              "      <td>Nike Shoes</td>\n",
              "      <td>1</td>\n",
              "      <td>355</td>\n",
              "    </tr>\n",
              "    <tr>\n",
              "      <th>14</th>\n",
              "      <td>4.0</td>\n",
              "      <td>Table handkerchief rings</td>\n",
              "      <td>1</td>\n",
              "      <td>372</td>\n",
              "    </tr>\n",
              "    <tr>\n",
              "      <th>15</th>\n",
              "      <td>4.0</td>\n",
              "      <td>iPhone 8+ 64Gb</td>\n",
              "      <td>1</td>\n",
              "      <td>384</td>\n",
              "    </tr>\n",
              "    <tr>\n",
              "      <th>16</th>\n",
              "      <td>4.0</td>\n",
              "      <td>iPhone 5SE 32Gb</td>\n",
              "      <td>1</td>\n",
              "      <td>388</td>\n",
              "    </tr>\n",
              "    <tr>\n",
              "      <th>17</th>\n",
              "      <td>4.0</td>\n",
              "      <td>Tecno camon cx</td>\n",
              "      <td>1</td>\n",
              "      <td>407</td>\n",
              "    </tr>\n",
              "    <tr>\n",
              "      <th>18</th>\n",
              "      <td>4.0</td>\n",
              "      <td>Tecno camon 15</td>\n",
              "      <td>1</td>\n",
              "      <td>408</td>\n",
              "    </tr>\n",
              "    <tr>\n",
              "      <th>19</th>\n",
              "      <td>4.0</td>\n",
              "      <td>Tecno camon 12</td>\n",
              "      <td>1</td>\n",
              "      <td>410</td>\n",
              "    </tr>\n",
              "  </tbody>\n",
              "</table>\n",
              "</div>"
            ],
            "text/plain": [
              "    average_rating  ... product_id\n",
              "0              5.0  ...         35\n",
              "1              5.0  ...        100\n",
              "2              5.0  ...       1314\n",
              "3              4.5  ...        533\n",
              "4              4.0  ...         97\n",
              "5              4.0  ...         98\n",
              "6              4.0  ...         99\n",
              "7              4.0  ...        260\n",
              "8              4.0  ...        262\n",
              "9              4.0  ...        263\n",
              "10             4.0  ...        264\n",
              "11             4.0  ...        266\n",
              "12             4.0  ...        348\n",
              "13             4.0  ...        355\n",
              "14             4.0  ...        372\n",
              "15             4.0  ...        384\n",
              "16             4.0  ...        388\n",
              "17             4.0  ...        407\n",
              "18             4.0  ...        408\n",
              "19             4.0  ...        410\n",
              "\n",
              "[20 rows x 4 columns]"
            ]
          },
          "metadata": {
            "tags": []
          },
          "execution_count": 18
        }
      ]
    },
    {
      "cell_type": "code",
      "metadata": {
        "id": "OME8BsBBzq0F"
      },
      "source": [
        ""
      ],
      "execution_count": 18,
      "outputs": []
    },
    {
      "cell_type": "markdown",
      "metadata": {
        "id": "eVkyVkUbWcOB"
      },
      "source": [
        "#Most popular view"
      ]
    },
    {
      "cell_type": "code",
      "metadata": {
        "id": "O6Apm26cWfdP"
      },
      "source": [
        ""
      ],
      "execution_count": 18,
      "outputs": []
    },
    {
      "cell_type": "code",
      "metadata": {
        "id": "zI4l4krmZHoo"
      },
      "source": [
        "#Get visits data from shoppy_visits in mongo db\n",
        "\n",
        "data = spark.read.format(\"com.mongodb.spark.sql.DefaultSource\")\\\n",
        "                    .option(\"spark.mongodb.input.uri\", \"mongodb://50.17.145.202:27017/shoppy.shoppy_visits\")\\\n",
        "                    .load()"
      ],
      "execution_count": 19,
      "outputs": []
    },
    {
      "cell_type": "code",
      "metadata": {
        "id": "61vtuym_zSui"
      },
      "source": [
        ""
      ],
      "execution_count": 19,
      "outputs": []
    },
    {
      "cell_type": "code",
      "metadata": {
        "id": "pqA8itJ8tK-j"
      },
      "source": [
        ""
      ],
      "execution_count": 19,
      "outputs": []
    },
    {
      "cell_type": "code",
      "metadata": {
        "colab": {
          "base_uri": "https://localhost:8080/",
          "height": 34
        },
        "id": "ft8SS-ZWjnAy",
        "outputId": "d1e2d522-c21c-4893-d992-ede6222c98df"
      },
      "source": [
        "# This is a code used to connect to mongo db database using pyspark shell\n",
        "'''!pyspark --conf \"spark.mongodb.input.uri=mongodb://50.17.145.202:27017/shoppy.shoppy_visits?readPreference=primaryPreferred\" \\\n",
        "         --packages org.mongodb.spark:mongo-spark-connector_2.12:3.0.1'''"
      ],
      "execution_count": 20,
      "outputs": [
        {
          "output_type": "execute_result",
          "data": {
            "application/vnd.google.colaboratory.intrinsic+json": {
              "type": "string"
            },
            "text/plain": [
              "'!pyspark --conf \"spark.mongodb.input.uri=mongodb://50.17.145.202:27017/shoppy.shoppy_visits?readPreference=primaryPreferred\"          --packages org.mongodb.spark:mongo-spark-connector_2.12:3.0.1'"
            ]
          },
          "metadata": {
            "tags": []
          },
          "execution_count": 20
        }
      ]
    },
    {
      "cell_type": "code",
      "metadata": {
        "id": "4vm1R_UMTq2X"
      },
      "source": [
        "# Get data's visitor\n",
        "visitor = data.where(col('user_id').like(\"%log%\"))"
      ],
      "execution_count": 21,
      "outputs": []
    },
    {
      "cell_type": "code",
      "metadata": {
        "id": "nzi8LdTGUBQb"
      },
      "source": [
        "# Get product's visitor view \n",
        "visitor_products = visitor.where(visitor.type ==\"PRODUCT\")"
      ],
      "execution_count": 22,
      "outputs": []
    },
    {
      "cell_type": "code",
      "metadata": {
        "colab": {
          "base_uri": "https://localhost:8080/"
        },
        "id": "Qa2sTGbHVjhK",
        "outputId": "a47fe1e0-9456-41a6-8f95-0597562d93d7"
      },
      "source": [
        "visitor_products.show()"
      ],
      "execution_count": 23,
      "outputs": [
        {
          "output_type": "stream",
          "text": [
            "+--------------------+-------------------+---------+-------+-------------------+-----------------+\n",
            "|                 _id|         created_at|object_id|   type|         updated_at|          user_id|\n",
            "+--------------------+-------------------+---------+-------+-------------------+-----------------+\n",
            "|{60d3535297f8673a...|2021-06-23 15:29:22|      958|PRODUCT|2021-06-23 15:29:22|log_60d3535268a98|\n",
            "|{60d353ec97f8673a...|2021-06-23 15:31:56|     1154|PRODUCT|2021-06-23 15:31:56|log_60d353ec37001|\n",
            "|{60d353eee1324260...|2021-06-23 15:31:58|      193|PRODUCT|2021-06-23 15:31:58|log_60d353ee692e1|\n",
            "|{60d353eee1324260...|2021-06-23 15:31:58|      194|PRODUCT|2021-06-23 15:31:58|log_60d353eead092|\n",
            "|{60d353efe1324260...|2021-06-23 15:31:59|      195|PRODUCT|2021-06-23 15:31:59|log_60d353eeeff8b|\n",
            "|{60d353efe1324260...|2021-06-23 15:31:59|      196|PRODUCT|2021-06-23 15:31:59|log_60d353ef3ecc4|\n",
            "|{60d353efe1324260...|2021-06-23 15:31:59|      199|PRODUCT|2021-06-23 15:31:59|log_60d353ef81bab|\n",
            "|{60d353efe1324260...|2021-06-23 15:31:59|      201|PRODUCT|2021-06-23 15:31:59|log_60d353efc49e9|\n",
            "|{60d353f0e1324260...|2021-06-23 15:32:00|      205|PRODUCT|2021-06-23 15:32:00|log_60d353f013672|\n",
            "|{60d353f0e1324260...|2021-06-23 15:32:00|      206|PRODUCT|2021-06-23 15:32:00|log_60d353f05667c|\n",
            "|{60d353f0e1324260...|2021-06-23 15:32:00|      212|PRODUCT|2021-06-23 15:32:00|log_60d353f0995e9|\n",
            "|{60d353f1e1324260...|2021-06-23 15:32:01|      213|PRODUCT|2021-06-23 15:32:01|log_60d353f0dc62f|\n",
            "|{60d353f1e1324260...|2021-06-23 15:32:01|      214|PRODUCT|2021-06-23 15:32:01|log_60d353f12b3a2|\n",
            "|{60d353f1e1324260...|2021-06-23 15:32:01|      215|PRODUCT|2021-06-23 15:32:01|log_60d353f16e38c|\n",
            "|{60d353f1e1324260...|2021-06-23 15:32:01|      216|PRODUCT|2021-06-23 15:32:01|log_60d353f1b14e9|\n",
            "|{60d353f2e1324260...|2021-06-23 15:32:02|      218|PRODUCT|2021-06-23 15:32:02|log_60d353f20004b|\n",
            "|{60d353f2e1324260...|2021-06-23 15:32:02|      219|PRODUCT|2021-06-23 15:32:02|log_60d353f2431d9|\n",
            "|{60d353f2e1324260...|2021-06-23 15:32:02|      220|PRODUCT|2021-06-23 15:32:02|log_60d353f28630b|\n",
            "|{60d353f3e1324260...|2021-06-23 15:32:03|      229|PRODUCT|2021-06-23 15:32:03|log_60d353f2c92cc|\n",
            "|{60d353f3e1324260...|2021-06-23 15:32:03|      230|PRODUCT|2021-06-23 15:32:03|log_60d353f3180ed|\n",
            "+--------------------+-------------------+---------+-------+-------------------+-----------------+\n",
            "only showing top 20 rows\n",
            "\n"
          ],
          "name": "stdout"
        }
      ]
    },
    {
      "cell_type": "code",
      "metadata": {
        "id": "mw-YFOiuXppX"
      },
      "source": [
        "# Compute the count view for each products \n",
        "from pyspark.sql import functions as F\n",
        "\n",
        "grouped_prod_visitors = visitor_products.groupBy('object_id').agg(F.count(visitor_products.object_id).alias(\"count\"))\n"
      ],
      "execution_count": 24,
      "outputs": []
    },
    {
      "cell_type": "code",
      "metadata": {
        "colab": {
          "base_uri": "https://localhost:8080/"
        },
        "id": "Zs4j6gAmYQ2p",
        "outputId": "778327e4-d614-41af-d417-ba08ef111a97"
      },
      "source": [
        "grouped_prod_visitors.where(col(\"count\")>=5).orderBy(col(\"count\").desc()).show()"
      ],
      "execution_count": 25,
      "outputs": [
        {
          "output_type": "stream",
          "text": [
            "+---------+-----+\n",
            "|object_id|count|\n",
            "+---------+-----+\n",
            "|     1155|    7|\n",
            "|      392|    7|\n",
            "|     1487|    6|\n",
            "|      419|    6|\n",
            "|     1323|    6|\n",
            "|      342|    6|\n",
            "|     1324|    5|\n",
            "|        6|    5|\n",
            "|      299|    5|\n",
            "|     1326|    5|\n",
            "|      884|    5|\n",
            "|      273|    5|\n",
            "|      968|    5|\n",
            "|      337|    5|\n",
            "|      903|    5|\n",
            "|      952|    5|\n",
            "|      490|    5|\n",
            "+---------+-----+\n",
            "\n"
          ],
          "name": "stdout"
        }
      ]
    },
    {
      "cell_type": "code",
      "metadata": {
        "colab": {
          "base_uri": "https://localhost:8080/"
        },
        "id": "2AvFYavAlR-7",
        "outputId": "214dfc59-a478-4e58-f85d-893a60197772"
      },
      "source": [
        "# Get the grouped product df with the name of the products\n",
        "\n",
        "prod_names = grouped_prod_visitors.join(shoppy_products_df,grouped_prod_visitors['object_id'] == shoppy_products_df['product_id'])\n",
        "prod_names.show(10)\n"
      ],
      "execution_count": 42,
      "outputs": [
        {
          "output_type": "stream",
          "text": [
            "+---------+-----+----------+--------------------+------------+\n",
            "|object_id|count|product_id|     product_name_en|actual_price|\n",
            "+---------+-----+----------+--------------------+------------+\n",
            "|     1238|    1|      1238|Jacket set for me...|       20000|\n",
            "|      471|    2|       471|Samsung Galaxy S8...|      125000|\n",
            "|     1395|    2|      1395|          Blue heels|        9000|\n",
            "|      392|    7|       392|       cushion cover|        3000|\n",
            "|     1507|    1|      1507|               Tenis|        5000|\n",
            "|      897|    2|       897|              Sandal|       20000|\n",
            "|      858|    1|       858|      Coton Dentelle|       45000|\n",
            "|      737|    1|       737|blue YSL  hand ba...|       17000|\n",
            "|      540|    1|       540|Wax Holantex fabrics|       20000|\n",
            "|     1322|    4|      1322|    Long Sleeve gown|       45000|\n",
            "+---------+-----+----------+--------------------+------------+\n",
            "only showing top 10 rows\n",
            "\n"
          ],
          "name": "stdout"
        },
        {
          "output_type": "execute_result",
          "data": {
            "text/plain": [
              "[('object_id', 'int'),\n",
              " ('count', 'bigint'),\n",
              " ('product_id', 'int'),\n",
              " ('product_name_en', 'string'),\n",
              " ('actual_price', 'decimal(38,0)')]"
            ]
          },
          "metadata": {
            "tags": []
          },
          "execution_count": 42
        }
      ]
    },
    {
      "cell_type": "code",
      "metadata": {
        "id": "eki4wkOTndkG",
        "colab": {
          "base_uri": "https://localhost:8080/"
        },
        "outputId": "b7ea347e-e6cd-4398-919c-c3ccafbac012"
      },
      "source": [
        "# Get select the required fields from the above table\n",
        "prod_names = prod_names.select(\"object_id\", \"count\", \"product_id\", \"product_name_en\", \"actual_price\").sort('count', ascending = False )\n",
        "\n",
        "print(\" The top 10 most popular view \")\n",
        "prod_names.show(10)\n"
      ],
      "execution_count": 43,
      "outputs": [
        {
          "output_type": "stream",
          "text": [
            " The top 10 most popular view \n",
            "+---------+-----+----------+--------------------+------------+\n",
            "|object_id|count|product_id|     product_name_en|actual_price|\n",
            "+---------+-----+----------+--------------------+------------+\n",
            "|      392|    7|       392|       cushion cover|        3000|\n",
            "|     1155|    7|      1155|     LE VIEUX MOULIN|        2000|\n",
            "|     1487|    6|      1487|            Lingerie|       13500|\n",
            "|     1323|    6|      1323|          High heels|       37000|\n",
            "|      419|    6|       419|   blue formal shoes|       25000|\n",
            "|      342|    6|       342|    DSQUARED 2 shoes|       13000|\n",
            "|      884|    5|       884|    Dior Bag - Black|       15000|\n",
            "|        6|    5|         6|Fourgonnette 1317...|    11200000|\n",
            "|     1324|    5|      1324|          High heels|       37000|\n",
            "|     1326|    5|      1326|               Dress|        8000|\n",
            "+---------+-----+----------+--------------------+------------+\n",
            "only showing top 10 rows\n",
            "\n"
          ],
          "name": "stdout"
        },
        {
          "output_type": "execute_result",
          "data": {
            "text/plain": [
              "[('object_id', 'int'),\n",
              " ('count', 'bigint'),\n",
              " ('product_id', 'int'),\n",
              " ('product_name_en', 'string'),\n",
              " ('actual_price', 'decimal(38,0)')]"
            ]
          },
          "metadata": {
            "tags": []
          },
          "execution_count": 43
        }
      ]
    },
    {
      "cell_type": "code",
      "metadata": {
        "colab": {
          "base_uri": "https://localhost:8080/",
          "height": 542
        },
        "id": "IPd3tBRprfZR",
        "outputId": "7244346f-0a54-47e6-dec1-85a7cfd453fd"
      },
      "source": [
        "prod_names_pd =prod_names.toPandas()\n",
        "\n",
        "# Get the 20 products with the largest rating\n",
        "\n",
        "prod_names_pd = prod_names_pd.nlargest(20, 'count')\n",
        "\n",
        "'''\n",
        "fig = px.bar(grouped_prod_names_pd, x='product_id', y='average_rating')\n",
        "fig.show()\n",
        "prod_names_pd['object_id'] = prod_names_pd['object_id'].astype(str)\n",
        "'''\n",
        "\n",
        "# Use textposition='auto' for direct text\n",
        "\n",
        "fig = go.Figure(data=[go.Bar(\n",
        "            x=prod_names_pd.object_id, y=prod_names_pd[\"count\"],\n",
        "            text=prod_names_pd.product_name_en,\n",
        "            textposition='auto'\n",
        "        )])\n",
        "\n",
        "#Exclude all missing values\n",
        "fig.update_layout(xaxis=dict(type = \"category\"))\n",
        "fig.show()"
      ],
      "execution_count": 54,
      "outputs": [
        {
          "output_type": "display_data",
          "data": {
            "text/html": [
              "<html>\n",
              "<head><meta charset=\"utf-8\" /></head>\n",
              "<body>\n",
              "    <div>\n",
              "            <script src=\"https://cdnjs.cloudflare.com/ajax/libs/mathjax/2.7.5/MathJax.js?config=TeX-AMS-MML_SVG\"></script><script type=\"text/javascript\">if (window.MathJax) {MathJax.Hub.Config({SVG: {font: \"STIX-Web\"}});}</script>\n",
              "                <script type=\"text/javascript\">window.PlotlyConfig = {MathJaxConfig: 'local'};</script>\n",
              "        <script src=\"https://cdn.plot.ly/plotly-latest.min.js\"></script>    \n",
              "            <div id=\"4696f2a3-320e-4597-b123-15dd360e5a57\" class=\"plotly-graph-div\" style=\"height:525px; width:100%;\"></div>\n",
              "            <script type=\"text/javascript\">\n",
              "                \n",
              "                    window.PLOTLYENV=window.PLOTLYENV || {};\n",
              "                    \n",
              "                if (document.getElementById(\"4696f2a3-320e-4597-b123-15dd360e5a57\")) {\n",
              "                    Plotly.newPlot(\n",
              "                        '4696f2a3-320e-4597-b123-15dd360e5a57',\n",
              "                        [{\"text\": [\"cushion cover\", \"LE VIEUX MOULIN\", \"High heels\", \"blue formal shoes\", \"Lingerie\", \"DSQUARED 2 shoes\", \"High heels\", \"Fourgonnette 1317 fairly-used\", \"Beautiful Brown Slippers\", \"Dress\", \"Puma Jogging - Black\", \"Dior Bag - Black\", \"Christian Dior T-shirt\", \"Swiss Dentelle\", \"Folral bracelet +  beads earrings\", \"Shirt\", \"Lino versase Shoes\", \"Long Sleeve gown\", \"Dior Slippers\", \"Swiss Dentelle\"], \"textposition\": \"auto\", \"type\": \"bar\", \"x\": [392, 1155, 1323, 419, 1487, 342, 1324, 6, 299, 1326, 903, 884, 273, 952, 968, 490, 337, 1322, 321, 950], \"y\": [7, 7, 6, 6, 6, 6, 5, 5, 5, 5, 5, 5, 5, 5, 5, 5, 5, 4, 4, 4]}],\n",
              "                        {\"template\": {\"data\": {\"bar\": [{\"error_x\": {\"color\": \"#2a3f5f\"}, \"error_y\": {\"color\": \"#2a3f5f\"}, \"marker\": {\"line\": {\"color\": \"#E5ECF6\", \"width\": 0.5}}, \"type\": \"bar\"}], \"barpolar\": [{\"marker\": {\"line\": {\"color\": \"#E5ECF6\", \"width\": 0.5}}, \"type\": \"barpolar\"}], \"carpet\": [{\"aaxis\": {\"endlinecolor\": \"#2a3f5f\", \"gridcolor\": \"white\", \"linecolor\": \"white\", \"minorgridcolor\": \"white\", \"startlinecolor\": \"#2a3f5f\"}, \"baxis\": {\"endlinecolor\": \"#2a3f5f\", \"gridcolor\": \"white\", \"linecolor\": \"white\", \"minorgridcolor\": \"white\", \"startlinecolor\": \"#2a3f5f\"}, \"type\": \"carpet\"}], \"choropleth\": [{\"colorbar\": {\"outlinewidth\": 0, \"ticks\": \"\"}, \"type\": \"choropleth\"}], \"contour\": [{\"colorbar\": {\"outlinewidth\": 0, \"ticks\": \"\"}, \"colorscale\": [[0.0, \"#0d0887\"], [0.1111111111111111, \"#46039f\"], [0.2222222222222222, \"#7201a8\"], [0.3333333333333333, \"#9c179e\"], [0.4444444444444444, \"#bd3786\"], [0.5555555555555556, \"#d8576b\"], [0.6666666666666666, \"#ed7953\"], [0.7777777777777778, \"#fb9f3a\"], [0.8888888888888888, \"#fdca26\"], [1.0, \"#f0f921\"]], \"type\": \"contour\"}], \"contourcarpet\": [{\"colorbar\": {\"outlinewidth\": 0, \"ticks\": \"\"}, \"type\": \"contourcarpet\"}], \"heatmap\": [{\"colorbar\": {\"outlinewidth\": 0, \"ticks\": \"\"}, \"colorscale\": [[0.0, \"#0d0887\"], [0.1111111111111111, \"#46039f\"], [0.2222222222222222, \"#7201a8\"], [0.3333333333333333, \"#9c179e\"], [0.4444444444444444, \"#bd3786\"], [0.5555555555555556, \"#d8576b\"], [0.6666666666666666, \"#ed7953\"], [0.7777777777777778, \"#fb9f3a\"], [0.8888888888888888, \"#fdca26\"], [1.0, \"#f0f921\"]], \"type\": \"heatmap\"}], \"heatmapgl\": [{\"colorbar\": {\"outlinewidth\": 0, \"ticks\": \"\"}, \"colorscale\": [[0.0, \"#0d0887\"], [0.1111111111111111, \"#46039f\"], [0.2222222222222222, \"#7201a8\"], [0.3333333333333333, \"#9c179e\"], [0.4444444444444444, \"#bd3786\"], [0.5555555555555556, \"#d8576b\"], [0.6666666666666666, \"#ed7953\"], [0.7777777777777778, \"#fb9f3a\"], [0.8888888888888888, \"#fdca26\"], [1.0, \"#f0f921\"]], \"type\": \"heatmapgl\"}], \"histogram\": [{\"marker\": {\"colorbar\": {\"outlinewidth\": 0, \"ticks\": \"\"}}, \"type\": \"histogram\"}], \"histogram2d\": [{\"colorbar\": {\"outlinewidth\": 0, \"ticks\": \"\"}, \"colorscale\": [[0.0, \"#0d0887\"], [0.1111111111111111, \"#46039f\"], [0.2222222222222222, \"#7201a8\"], [0.3333333333333333, \"#9c179e\"], [0.4444444444444444, \"#bd3786\"], [0.5555555555555556, \"#d8576b\"], [0.6666666666666666, \"#ed7953\"], [0.7777777777777778, \"#fb9f3a\"], [0.8888888888888888, \"#fdca26\"], [1.0, \"#f0f921\"]], \"type\": \"histogram2d\"}], \"histogram2dcontour\": [{\"colorbar\": {\"outlinewidth\": 0, \"ticks\": \"\"}, \"colorscale\": [[0.0, \"#0d0887\"], [0.1111111111111111, \"#46039f\"], [0.2222222222222222, \"#7201a8\"], [0.3333333333333333, \"#9c179e\"], [0.4444444444444444, \"#bd3786\"], [0.5555555555555556, \"#d8576b\"], [0.6666666666666666, \"#ed7953\"], [0.7777777777777778, \"#fb9f3a\"], [0.8888888888888888, \"#fdca26\"], [1.0, \"#f0f921\"]], \"type\": \"histogram2dcontour\"}], \"mesh3d\": [{\"colorbar\": {\"outlinewidth\": 0, \"ticks\": \"\"}, \"type\": \"mesh3d\"}], \"parcoords\": [{\"line\": {\"colorbar\": {\"outlinewidth\": 0, \"ticks\": \"\"}}, \"type\": \"parcoords\"}], \"pie\": [{\"automargin\": true, \"type\": \"pie\"}], \"scatter\": [{\"marker\": {\"colorbar\": {\"outlinewidth\": 0, \"ticks\": \"\"}}, \"type\": \"scatter\"}], \"scatter3d\": [{\"line\": {\"colorbar\": {\"outlinewidth\": 0, \"ticks\": \"\"}}, \"marker\": {\"colorbar\": {\"outlinewidth\": 0, \"ticks\": \"\"}}, \"type\": \"scatter3d\"}], \"scattercarpet\": [{\"marker\": {\"colorbar\": {\"outlinewidth\": 0, \"ticks\": \"\"}}, \"type\": \"scattercarpet\"}], \"scattergeo\": [{\"marker\": {\"colorbar\": {\"outlinewidth\": 0, \"ticks\": \"\"}}, \"type\": \"scattergeo\"}], \"scattergl\": [{\"marker\": {\"colorbar\": {\"outlinewidth\": 0, \"ticks\": \"\"}}, \"type\": \"scattergl\"}], \"scattermapbox\": [{\"marker\": {\"colorbar\": {\"outlinewidth\": 0, \"ticks\": \"\"}}, \"type\": \"scattermapbox\"}], \"scatterpolar\": [{\"marker\": {\"colorbar\": {\"outlinewidth\": 0, \"ticks\": \"\"}}, \"type\": \"scatterpolar\"}], \"scatterpolargl\": [{\"marker\": {\"colorbar\": {\"outlinewidth\": 0, \"ticks\": \"\"}}, \"type\": \"scatterpolargl\"}], \"scatterternary\": [{\"marker\": {\"colorbar\": {\"outlinewidth\": 0, \"ticks\": \"\"}}, \"type\": \"scatterternary\"}], \"surface\": [{\"colorbar\": {\"outlinewidth\": 0, \"ticks\": \"\"}, \"colorscale\": [[0.0, \"#0d0887\"], [0.1111111111111111, \"#46039f\"], [0.2222222222222222, \"#7201a8\"], [0.3333333333333333, \"#9c179e\"], [0.4444444444444444, \"#bd3786\"], [0.5555555555555556, \"#d8576b\"], [0.6666666666666666, \"#ed7953\"], [0.7777777777777778, \"#fb9f3a\"], [0.8888888888888888, \"#fdca26\"], [1.0, \"#f0f921\"]], \"type\": \"surface\"}], \"table\": [{\"cells\": {\"fill\": {\"color\": \"#EBF0F8\"}, \"line\": {\"color\": \"white\"}}, \"header\": {\"fill\": {\"color\": \"#C8D4E3\"}, \"line\": {\"color\": \"white\"}}, \"type\": \"table\"}]}, \"layout\": {\"annotationdefaults\": {\"arrowcolor\": \"#2a3f5f\", \"arrowhead\": 0, \"arrowwidth\": 1}, \"coloraxis\": {\"colorbar\": {\"outlinewidth\": 0, \"ticks\": \"\"}}, \"colorscale\": {\"diverging\": [[0, \"#8e0152\"], [0.1, \"#c51b7d\"], [0.2, \"#de77ae\"], [0.3, \"#f1b6da\"], [0.4, \"#fde0ef\"], [0.5, \"#f7f7f7\"], [0.6, \"#e6f5d0\"], [0.7, \"#b8e186\"], [0.8, \"#7fbc41\"], [0.9, \"#4d9221\"], [1, \"#276419\"]], \"sequential\": [[0.0, \"#0d0887\"], [0.1111111111111111, \"#46039f\"], [0.2222222222222222, \"#7201a8\"], [0.3333333333333333, \"#9c179e\"], [0.4444444444444444, \"#bd3786\"], [0.5555555555555556, \"#d8576b\"], [0.6666666666666666, \"#ed7953\"], [0.7777777777777778, \"#fb9f3a\"], [0.8888888888888888, \"#fdca26\"], [1.0, \"#f0f921\"]], \"sequentialminus\": [[0.0, \"#0d0887\"], [0.1111111111111111, \"#46039f\"], [0.2222222222222222, \"#7201a8\"], [0.3333333333333333, \"#9c179e\"], [0.4444444444444444, \"#bd3786\"], [0.5555555555555556, \"#d8576b\"], [0.6666666666666666, \"#ed7953\"], [0.7777777777777778, \"#fb9f3a\"], [0.8888888888888888, \"#fdca26\"], [1.0, \"#f0f921\"]]}, \"colorway\": [\"#636efa\", \"#EF553B\", \"#00cc96\", \"#ab63fa\", \"#FFA15A\", \"#19d3f3\", \"#FF6692\", \"#B6E880\", \"#FF97FF\", \"#FECB52\"], \"font\": {\"color\": \"#2a3f5f\"}, \"geo\": {\"bgcolor\": \"white\", \"lakecolor\": \"white\", \"landcolor\": \"#E5ECF6\", \"showlakes\": true, \"showland\": true, \"subunitcolor\": \"white\"}, \"hoverlabel\": {\"align\": \"left\"}, \"hovermode\": \"closest\", \"mapbox\": {\"style\": \"light\"}, \"paper_bgcolor\": \"white\", \"plot_bgcolor\": \"#E5ECF6\", \"polar\": {\"angularaxis\": {\"gridcolor\": \"white\", \"linecolor\": \"white\", \"ticks\": \"\"}, \"bgcolor\": \"#E5ECF6\", \"radialaxis\": {\"gridcolor\": \"white\", \"linecolor\": \"white\", \"ticks\": \"\"}}, \"scene\": {\"xaxis\": {\"backgroundcolor\": \"#E5ECF6\", \"gridcolor\": \"white\", \"gridwidth\": 2, \"linecolor\": \"white\", \"showbackground\": true, \"ticks\": \"\", \"zerolinecolor\": \"white\"}, \"yaxis\": {\"backgroundcolor\": \"#E5ECF6\", \"gridcolor\": \"white\", \"gridwidth\": 2, \"linecolor\": \"white\", \"showbackground\": true, \"ticks\": \"\", \"zerolinecolor\": \"white\"}, \"zaxis\": {\"backgroundcolor\": \"#E5ECF6\", \"gridcolor\": \"white\", \"gridwidth\": 2, \"linecolor\": \"white\", \"showbackground\": true, \"ticks\": \"\", \"zerolinecolor\": \"white\"}}, \"shapedefaults\": {\"line\": {\"color\": \"#2a3f5f\"}}, \"ternary\": {\"aaxis\": {\"gridcolor\": \"white\", \"linecolor\": \"white\", \"ticks\": \"\"}, \"baxis\": {\"gridcolor\": \"white\", \"linecolor\": \"white\", \"ticks\": \"\"}, \"bgcolor\": \"#E5ECF6\", \"caxis\": {\"gridcolor\": \"white\", \"linecolor\": \"white\", \"ticks\": \"\"}}, \"title\": {\"x\": 0.05}, \"xaxis\": {\"automargin\": true, \"gridcolor\": \"white\", \"linecolor\": \"white\", \"ticks\": \"\", \"title\": {\"standoff\": 15}, \"zerolinecolor\": \"white\", \"zerolinewidth\": 2}, \"yaxis\": {\"automargin\": true, \"gridcolor\": \"white\", \"linecolor\": \"white\", \"ticks\": \"\", \"title\": {\"standoff\": 15}, \"zerolinecolor\": \"white\", \"zerolinewidth\": 2}}}, \"xaxis\": {\"type\": \"category\"}},\n",
              "                        {\"responsive\": true}\n",
              "                    ).then(function(){\n",
              "                            \n",
              "var gd = document.getElementById('4696f2a3-320e-4597-b123-15dd360e5a57');\n",
              "var x = new MutationObserver(function (mutations, observer) {{\n",
              "        var display = window.getComputedStyle(gd).display;\n",
              "        if (!display || display === 'none') {{\n",
              "            console.log([gd, 'removed!']);\n",
              "            Plotly.purge(gd);\n",
              "            observer.disconnect();\n",
              "        }}\n",
              "}});\n",
              "\n",
              "// Listen for the removal of the full notebook cells\n",
              "var notebookContainer = gd.closest('#notebook-container');\n",
              "if (notebookContainer) {{\n",
              "    x.observe(notebookContainer, {childList: true});\n",
              "}}\n",
              "\n",
              "// Listen for the clearing of the current output cell\n",
              "var outputEl = gd.closest('.output');\n",
              "if (outputEl) {{\n",
              "    x.observe(outputEl, {childList: true});\n",
              "}}\n",
              "\n",
              "                        })\n",
              "                };\n",
              "                \n",
              "            </script>\n",
              "        </div>\n",
              "</body>\n",
              "</html>"
            ]
          },
          "metadata": {
            "tags": []
          }
        }
      ]
    },
    {
      "cell_type": "code",
      "metadata": {
        "id": "niVlrWkZP9D4",
        "outputId": "865e2783-a63e-4577-d6a4-7642d07fe81e",
        "colab": {
          "base_uri": "https://localhost:8080/"
        }
      },
      "source": [
        "prod_names_pd.dtypes"
      ],
      "execution_count": 41,
      "outputs": [
        {
          "output_type": "execute_result",
          "data": {
            "text/plain": [
              "object_id          object\n",
              "count               int64\n",
              "product_id          int32\n",
              "product_name_en    object\n",
              "actual_price       object\n",
              "dtype: object"
            ]
          },
          "metadata": {
            "tags": []
          },
          "execution_count": 41
        }
      ]
    },
    {
      "cell_type": "code",
      "metadata": {
        "id": "EG4gEi3-QnQi",
        "outputId": "140f4820-9a8a-45a0-8a91-282912814016",
        "colab": {
          "base_uri": "https://localhost:8080/"
        }
      },
      "source": [
        ""
      ],
      "execution_count": 40,
      "outputs": [
        {
          "output_type": "execute_result",
          "data": {
            "text/plain": [
              "object_id          object\n",
              "count               int64\n",
              "product_id          int32\n",
              "product_name_en    object\n",
              "actual_price       object\n",
              "dtype: object"
            ]
          },
          "metadata": {
            "tags": []
          },
          "execution_count": 40
        }
      ]
    },
    {
      "cell_type": "code",
      "metadata": {
        "colab": {
          "base_uri": "https://localhost:8080/",
          "height": 664
        },
        "id": "9UQmrFW_vHNX",
        "outputId": "c4bb5a2e-cc5a-4c4c-e0ee-bec46dfc501c"
      },
      "source": [
        "print(\" The list of the top 20 of the most view  :\")\n",
        "prod_names_pd"
      ],
      "execution_count": 29,
      "outputs": [
        {
          "output_type": "stream",
          "text": [
            " The list of the top 20 of the most view  :\n"
          ],
          "name": "stdout"
        },
        {
          "output_type": "execute_result",
          "data": {
            "text/html": [
              "<div>\n",
              "<style scoped>\n",
              "    .dataframe tbody tr th:only-of-type {\n",
              "        vertical-align: middle;\n",
              "    }\n",
              "\n",
              "    .dataframe tbody tr th {\n",
              "        vertical-align: top;\n",
              "    }\n",
              "\n",
              "    .dataframe thead th {\n",
              "        text-align: right;\n",
              "    }\n",
              "</style>\n",
              "<table border=\"1\" class=\"dataframe\">\n",
              "  <thead>\n",
              "    <tr style=\"text-align: right;\">\n",
              "      <th></th>\n",
              "      <th>object_id</th>\n",
              "      <th>count</th>\n",
              "      <th>product_id</th>\n",
              "      <th>product_name_en</th>\n",
              "      <th>actual_price</th>\n",
              "    </tr>\n",
              "  </thead>\n",
              "  <tbody>\n",
              "    <tr>\n",
              "      <th>0</th>\n",
              "      <td>392</td>\n",
              "      <td>7</td>\n",
              "      <td>392</td>\n",
              "      <td>cushion cover</td>\n",
              "      <td>3000</td>\n",
              "    </tr>\n",
              "    <tr>\n",
              "      <th>1</th>\n",
              "      <td>1155</td>\n",
              "      <td>7</td>\n",
              "      <td>1155</td>\n",
              "      <td>LE VIEUX MOULIN</td>\n",
              "      <td>2000</td>\n",
              "    </tr>\n",
              "    <tr>\n",
              "      <th>2</th>\n",
              "      <td>1323</td>\n",
              "      <td>6</td>\n",
              "      <td>1323</td>\n",
              "      <td>High heels</td>\n",
              "      <td>37000</td>\n",
              "    </tr>\n",
              "    <tr>\n",
              "      <th>3</th>\n",
              "      <td>419</td>\n",
              "      <td>6</td>\n",
              "      <td>419</td>\n",
              "      <td>blue formal shoes</td>\n",
              "      <td>25000</td>\n",
              "    </tr>\n",
              "    <tr>\n",
              "      <th>4</th>\n",
              "      <td>1487</td>\n",
              "      <td>6</td>\n",
              "      <td>1487</td>\n",
              "      <td>Lingerie</td>\n",
              "      <td>13500</td>\n",
              "    </tr>\n",
              "    <tr>\n",
              "      <th>5</th>\n",
              "      <td>342</td>\n",
              "      <td>6</td>\n",
              "      <td>342</td>\n",
              "      <td>DSQUARED 2 shoes</td>\n",
              "      <td>13000</td>\n",
              "    </tr>\n",
              "    <tr>\n",
              "      <th>6</th>\n",
              "      <td>1324</td>\n",
              "      <td>5</td>\n",
              "      <td>1324</td>\n",
              "      <td>High heels</td>\n",
              "      <td>37000</td>\n",
              "    </tr>\n",
              "    <tr>\n",
              "      <th>7</th>\n",
              "      <td>6</td>\n",
              "      <td>5</td>\n",
              "      <td>6</td>\n",
              "      <td>Fourgonnette 1317 fairly-used</td>\n",
              "      <td>11200000</td>\n",
              "    </tr>\n",
              "    <tr>\n",
              "      <th>8</th>\n",
              "      <td>299</td>\n",
              "      <td>5</td>\n",
              "      <td>299</td>\n",
              "      <td>Beautiful Brown Slippers</td>\n",
              "      <td>12000</td>\n",
              "    </tr>\n",
              "    <tr>\n",
              "      <th>9</th>\n",
              "      <td>1326</td>\n",
              "      <td>5</td>\n",
              "      <td>1326</td>\n",
              "      <td>Dress</td>\n",
              "      <td>8000</td>\n",
              "    </tr>\n",
              "    <tr>\n",
              "      <th>10</th>\n",
              "      <td>903</td>\n",
              "      <td>5</td>\n",
              "      <td>903</td>\n",
              "      <td>Puma Jogging - Black</td>\n",
              "      <td>25000</td>\n",
              "    </tr>\n",
              "    <tr>\n",
              "      <th>11</th>\n",
              "      <td>884</td>\n",
              "      <td>5</td>\n",
              "      <td>884</td>\n",
              "      <td>Dior Bag - Black</td>\n",
              "      <td>15000</td>\n",
              "    </tr>\n",
              "    <tr>\n",
              "      <th>12</th>\n",
              "      <td>273</td>\n",
              "      <td>5</td>\n",
              "      <td>273</td>\n",
              "      <td>Christian Dior T-shirt</td>\n",
              "      <td>5000</td>\n",
              "    </tr>\n",
              "    <tr>\n",
              "      <th>13</th>\n",
              "      <td>952</td>\n",
              "      <td>5</td>\n",
              "      <td>952</td>\n",
              "      <td>Swiss Dentelle</td>\n",
              "      <td>50000</td>\n",
              "    </tr>\n",
              "    <tr>\n",
              "      <th>14</th>\n",
              "      <td>968</td>\n",
              "      <td>5</td>\n",
              "      <td>968</td>\n",
              "      <td>Folral bracelet +  beads earrings</td>\n",
              "      <td>2000</td>\n",
              "    </tr>\n",
              "    <tr>\n",
              "      <th>15</th>\n",
              "      <td>490</td>\n",
              "      <td>5</td>\n",
              "      <td>490</td>\n",
              "      <td>Shirt</td>\n",
              "      <td>12000</td>\n",
              "    </tr>\n",
              "    <tr>\n",
              "      <th>16</th>\n",
              "      <td>337</td>\n",
              "      <td>5</td>\n",
              "      <td>337</td>\n",
              "      <td>Lino versase Shoes</td>\n",
              "      <td>12000</td>\n",
              "    </tr>\n",
              "    <tr>\n",
              "      <th>17</th>\n",
              "      <td>1322</td>\n",
              "      <td>4</td>\n",
              "      <td>1322</td>\n",
              "      <td>Long Sleeve gown</td>\n",
              "      <td>45000</td>\n",
              "    </tr>\n",
              "    <tr>\n",
              "      <th>18</th>\n",
              "      <td>321</td>\n",
              "      <td>4</td>\n",
              "      <td>321</td>\n",
              "      <td>Dior Slippers</td>\n",
              "      <td>12000</td>\n",
              "    </tr>\n",
              "    <tr>\n",
              "      <th>19</th>\n",
              "      <td>950</td>\n",
              "      <td>4</td>\n",
              "      <td>950</td>\n",
              "      <td>Swiss Dentelle</td>\n",
              "      <td>50000</td>\n",
              "    </tr>\n",
              "  </tbody>\n",
              "</table>\n",
              "</div>"
            ],
            "text/plain": [
              "   object_id  count  product_id                    product_name_en actual_price\n",
              "0        392      7         392                      cushion cover         3000\n",
              "1       1155      7        1155                    LE VIEUX MOULIN         2000\n",
              "2       1323      6        1323                         High heels        37000\n",
              "3        419      6         419                  blue formal shoes        25000\n",
              "4       1487      6        1487                           Lingerie        13500\n",
              "5        342      6         342                   DSQUARED 2 shoes        13000\n",
              "6       1324      5        1324                         High heels        37000\n",
              "7          6      5           6      Fourgonnette 1317 fairly-used     11200000\n",
              "8        299      5         299           Beautiful Brown Slippers        12000\n",
              "9       1326      5        1326                              Dress         8000\n",
              "10       903      5         903               Puma Jogging - Black        25000\n",
              "11       884      5         884                   Dior Bag - Black        15000\n",
              "12       273      5         273             Christian Dior T-shirt         5000\n",
              "13       952      5         952                     Swiss Dentelle        50000\n",
              "14       968      5         968  Folral bracelet +  beads earrings         2000\n",
              "15       490      5         490                              Shirt        12000\n",
              "16       337      5         337                 Lino versase Shoes        12000\n",
              "17      1322      4        1322                   Long Sleeve gown        45000\n",
              "18       321      4         321                      Dior Slippers        12000\n",
              "19       950      4         950                     Swiss Dentelle        50000"
            ]
          },
          "metadata": {
            "tags": []
          },
          "execution_count": 29
        }
      ]
    },
    {
      "cell_type": "code",
      "metadata": {
        "id": "-op2Z7gcwq60"
      },
      "source": [
        ""
      ],
      "execution_count": 29,
      "outputs": []
    }
  ]
}