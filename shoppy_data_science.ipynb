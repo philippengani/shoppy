{
  "nbformat": 4,
  "nbformat_minor": 0,
  "metadata": {
    "application/vnd.databricks.v1+notebook": {
      "notebookName": "shoppy_data_science",
      "dashboards": [],
      "notebookMetadata": {
        "pythonIndentUnit": 2
      },
      "language": "python",
      "widgets": {},
      "notebookOrigID": 1296569341365924
    },
    "colab": {
      "name": "shoppy_data_science.ipynb",
      "provenance": [],
      "collapsed_sections": [],
      "include_colab_link": true
    },
    "language_info": {
      "name": "python"
    },
    "kernelspec": {
      "name": "python3",
      "display_name": "Python 3"
    }
  },
  "cells": [
    {
      "cell_type": "markdown",
      "metadata": {
        "id": "view-in-github",
        "colab_type": "text"
      },
      "source": [
        "<a href=\"https://colab.research.google.com/github/philippengani/shoppy/blob/main/shoppy_data_science.ipynb\" target=\"_parent\"><img src=\"https://colab.research.google.com/assets/colab-badge.svg\" alt=\"Open In Colab\"/></a>"
      ]
    },
    {
      "cell_type": "markdown",
      "metadata": {
        "id": "IeLA3nVWAX9f"
      },
      "source": [
        "Let's setup Spark on your Colab environment. Run the cell below!\n"
      ]
    },
    {
      "cell_type": "code",
      "metadata": {
        "colab": {
          "base_uri": "https://localhost:8080/"
        },
        "id": "1vomBqr0AfbO",
        "outputId": "b9618517-a452-4387-a012-4589b5e82483"
      },
      "source": [
        "!pip install pyspark\n",
        "!pip install -U -q PyDrive\n",
        "!apt install openjdk-8-jdk-headless -qq\n",
        "import os\n",
        "os.environ[\"JAVA_HOME\"] = \"/usr/lib/jvm/java-8-openjdk-amd64\"\n",
        "!pip install findspark"
      ],
      "execution_count": 1,
      "outputs": [
        {
          "output_type": "stream",
          "text": [
            "Requirement already satisfied: pyspark in /usr/local/lib/python3.7/dist-packages (3.1.2)\n",
            "Requirement already satisfied: py4j==0.10.9 in /usr/local/lib/python3.7/dist-packages (from pyspark) (0.10.9)\n",
            "openjdk-8-jdk-headless is already the newest version (8u292-b10-0ubuntu1~18.04).\n",
            "0 upgraded, 0 newly installed, 0 to remove and 39 not upgraded.\n",
            "Requirement already satisfied: findspark in /usr/local/lib/python3.7/dist-packages (1.4.2)\n"
          ],
          "name": "stdout"
        }
      ]
    },
    {
      "cell_type": "code",
      "metadata": {
        "application/vnd.databricks.v1+cell": {
          "title": "",
          "showTitle": false,
          "inputWidgets": {},
          "nuid": "1503f5a4-f3fe-4f67-8160-6d8d1dc592e8"
        },
        "id": "1BLEW1R3s73m"
      },
      "source": [
        "import pandas as pd\n",
        "from pyspark import SparkConf, SparkContext, sql\n",
        "from pyspark.sql import SparkSession\n",
        "import pyspark\n",
        "from pyspark.sql import *\n",
        "from pyspark.sql.types import *\n",
        "from pyspark.sql.functions import *\n",
        "from pyspark import SparkContext, SparkConf\n",
        "import findspark\n",
        "findspark.add_packages('mysql:mysql-connector-java:8.0.11')"
      ],
      "execution_count": 2,
      "outputs": []
    },
    {
      "cell_type": "code",
      "metadata": {
        "id": "NjmLNpv4BN42"
      },
      "source": [
        "# create the session\n",
        "conf = SparkConf().set(\"spark.ui.port\", \"4050\")\n",
        "\n",
        "# create the context\n",
        "sc = SparkContext(conf=conf)\n",
        "spark = SparkSession.builder.getOrCreate()"
      ],
      "execution_count": 3,
      "outputs": []
    },
    {
      "cell_type": "code",
      "metadata": {
        "colab": {
          "base_uri": "https://localhost:8080/",
          "height": 216
        },
        "id": "1zmt-_eRBcGu",
        "outputId": "59ec615c-f509-4724-a130-62509ec10b50"
      },
      "source": [
        "spark"
      ],
      "execution_count": 4,
      "outputs": [
        {
          "output_type": "execute_result",
          "data": {
            "text/html": [
              "\n",
              "            <div>\n",
              "                <p><b>SparkSession - in-memory</b></p>\n",
              "                \n",
              "        <div>\n",
              "            <p><b>SparkContext</b></p>\n",
              "\n",
              "            <p><a href=\"http://b3264787d72a:4050\">Spark UI</a></p>\n",
              "\n",
              "            <dl>\n",
              "              <dt>Version</dt>\n",
              "                <dd><code>v3.1.2</code></dd>\n",
              "              <dt>Master</dt>\n",
              "                <dd><code>local[*]</code></dd>\n",
              "              <dt>AppName</dt>\n",
              "                <dd><code>pyspark-shell</code></dd>\n",
              "            </dl>\n",
              "        </div>\n",
              "        \n",
              "            </div>\n",
              "        "
            ],
            "text/plain": [
              "<pyspark.sql.session.SparkSession at 0x7f464af6eb90>"
            ]
          },
          "metadata": {
            "tags": []
          },
          "execution_count": 4
        }
      ]
    },
    {
      "cell_type": "code",
      "metadata": {
        "application/vnd.databricks.v1+cell": {
          "title": "",
          "showTitle": false,
          "inputWidgets": {},
          "nuid": "5f3948da-1c61-4fb8-85fa-c9c179e5c2c9"
        },
        "id": "I73Zx_I9s73p"
      },
      "source": [
        "# Creating the database connection to the shoppy mysql database\n",
        "\n",
        "jdbcHostname = \"novobyte.org\"\n",
        "jdbcDatabase = \"jsvx9284_shpy\"\n",
        "username = 'jsvx9284_ndserge'\n",
        "password = 'DX%A818lF.+]'\n",
        "jdbcPort = 3306\n",
        "jdbcUrl = \"jdbc:mysql://{0}:{1}/{2}?user={3}&password={4}\".format(jdbcHostname, jdbcPort, jdbcDatabase, username, password)\n",
        "\n"
      ],
      "execution_count": 5,
      "outputs": []
    },
    {
      "cell_type": "code",
      "metadata": {
        "id": "9ltc1N1dEgUm"
      },
      "source": [
        ""
      ],
      "execution_count": 7,
      "outputs": []
    },
    {
      "cell_type": "code",
      "metadata": {
        "application/vnd.databricks.v1+cell": {
          "title": "",
          "showTitle": false,
          "inputWidgets": {},
          "nuid": "45bd1744-a1f4-462c-83fb-ed535a6ccf91"
        },
        "id": "INw0uFCRs73q",
        "colab": {
          "base_uri": "https://localhost:8080/"
        },
        "outputId": "d0c62b57-a1e9-47bf-b114-a1676ed3d3da"
      },
      "source": [
        "# Importing the shoppy ratings data\n",
        "\n",
        "#shoppy_ratings_df = spark.read.jdbc(url=jdbcUrl, table=\"shoppy_ratings\")\n",
        "shoppy_ratings_df = spark.read.format(\"jdbc\")\\\n",
        "                        .option(\"url\", \"jdbc:mysql://novobyte.org/jsvx9284_shpy?useLegacyDatetimeCode=false&serverTimezone=UTC\")\\\n",
        "                        .option(\"driver\", \"com.mysql.jdbc.Driver\")\\\n",
        "                        .option(\"dbtable\", \"shoppy_ratings\")\\\n",
        "                        .option(\"user\", \"jsvx9284_ndserge\")\\\n",
        "                        .option(\"password\", \"DX%A818lF.+]\")\\\n",
        "                        .load() \n",
        "shoppy_ratings_df"
      ],
      "execution_count": 19,
      "outputs": [
        {
          "output_type": "execute_result",
          "data": {
            "text/plain": [
              "DataFrame[rating_id: bigint, rating_value: double, user_id: bigint, reference_id: bigint, type: string]"
            ]
          },
          "metadata": {
            "tags": []
          },
          "execution_count": 19
        }
      ]
    },
    {
      "cell_type": "code",
      "metadata": {
        "application/vnd.databricks.v1+cell": {
          "title": "",
          "showTitle": false,
          "inputWidgets": {},
          "nuid": "e1c7b1e1-b61a-48bf-99b9-5ba2b3d7c131"
        },
        "colab": {
          "base_uri": "https://localhost:8080/"
        },
        "id": "ts1J7ABts73q",
        "outputId": "c5152ff1-6617-436b-ed4a-c699b5a48b6f"
      },
      "source": [
        "shoppy_ratings_df.head(10)"
      ],
      "execution_count": 20,
      "outputs": [
        {
          "output_type": "execute_result",
          "data": {
            "text/plain": [
              "[Row(rating_id=8, rating_value=4.6, user_id=14, reference_id=4, type='SHOP'),\n",
              " Row(rating_id=9, rating_value=3.8, user_id=14, reference_id=1, type='SHOP'),\n",
              " Row(rating_id=10, rating_value=5.0, user_id=14, reference_id=35, type='PRODUCT'),\n",
              " Row(rating_id=11, rating_value=3.6, user_id=17, reference_id=56, type='PRODUCT'),\n",
              " Row(rating_id=12, rating_value=3.6, user_id=17, reference_id=7, type='SHOP'),\n",
              " Row(rating_id=13, rating_value=2.5, user_id=17, reference_id=4, type='SHOP'),\n",
              " Row(rating_id=14, rating_value=3.9, user_id=14, reference_id=64, type='PRODUCT'),\n",
              " Row(rating_id=15, rating_value=5.0, user_id=41, reference_id=100, type='PRODUCT'),\n",
              " Row(rating_id=16, rating_value=4.9, user_id=41, reference_id=64, type='PRODUCT'),\n",
              " Row(rating_id=17, rating_value=2.8, user_id=14, reference_id=12, type='SHOP')]"
            ]
          },
          "metadata": {
            "tags": []
          },
          "execution_count": 20
        }
      ]
    },
    {
      "cell_type": "code",
      "metadata": {
        "application/vnd.databricks.v1+cell": {
          "title": "",
          "showTitle": false,
          "inputWidgets": {},
          "nuid": "8e34271b-c639-476f-acbe-497067bf0555"
        },
        "id": "BA2QxQqWs73r"
      },
      "source": [
        ""
      ],
      "execution_count": 20,
      "outputs": []
    }
  ]
}